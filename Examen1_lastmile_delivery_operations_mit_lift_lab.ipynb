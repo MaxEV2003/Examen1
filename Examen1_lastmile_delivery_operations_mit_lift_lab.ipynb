{
  "nbformat": 4,
  "nbformat_minor": 0,
  "metadata": {
    "colab": {
      "provenance": [],
      "include_colab_link": true
    },
    "kernelspec": {
      "name": "python3",
      "display_name": "Python 3"
    },
    "language_info": {
      "name": "python"
    }
  },
  "cells": [
    {
      "cell_type": "markdown",
      "metadata": {
        "id": "view-in-github",
        "colab_type": "text"
      },
      "source": [
        "<a href=\"https://colab.research.google.com/github/MaxEV2003/Examen1/blob/main/Examen1_lastmile_delivery_operations_mit_lift_lab.ipynb\" target=\"_parent\"><img src=\"https://colab.research.google.com/assets/colab-badge.svg\" alt=\"Open In Colab\"/></a>"
      ]
    },
    {
      "cell_type": "code",
      "execution_count": 1,
      "metadata": {
        "id": "n-syPpOgcAfT"
      },
      "outputs": [],
      "source": [
        "#Importamos librerias requeridas\n",
        "import pandas as pd\n",
        "import numpy as np\n",
        "import matplotlib.pyplot as plt"
      ]
    },
    {
      "cell_type": "code",
      "source": [
        "#Cargar archivo xlsx desde equipo\n",
        "from google.colab import files\n",
        "files.upload()"
      ],
      "metadata": {
        "id": "62GdhztlFd8f"
      },
      "execution_count": null,
      "outputs": []
    },
    {
      "cell_type": "code",
      "source": [
        "#Carga desde archivo .csv sin indice\n",
        "micro=pd.read_excel(\"lastmile_delivery_operations_mit_lift_lab.xlsx\")\n",
        "micro"
      ],
      "metadata": {
        "id": "V4xxEe0zcinM"
      },
      "execution_count": null,
      "outputs": []
    },
    {
      "cell_type": "code",
      "source": [
        "#3° metodo de sustitucion de valores nulos\n",
        "#sustituir valores nulos por un valor numerico en concreto\n",
        "micro['_title']=micro['_title'].fillna(1)\n",
        "micro"
      ],
      "metadata": {
        "id": "jSsRu3w3U1zO"
      },
      "execution_count": null,
      "outputs": []
    },
    {
      "cell_type": "code",
      "source": [
        "#Corroboramos valores nulos\n",
        "valores_nulos=micro.isnull().sum()\n",
        "valores_nulos"
      ],
      "metadata": {
        "id": "13HIyZxCUBFD"
      },
      "execution_count": null,
      "outputs": []
    },
    {
      "cell_type": "code",
      "source": [
        "micro['describe_the_accident']=micro['describe_the_accident'].fillna(2)\n",
        "micro"
      ],
      "metadata": {
        "id": "oaTv-UmWcjjj"
      },
      "execution_count": null,
      "outputs": []
    },
    {
      "cell_type": "code",
      "source": [
        "micro['maximum_number_of_vehicles_in_the_traffic_jam']=micro['maximum_number_of_vehicles_in_the_traffic_jam'].fillna(3)\n",
        "micro"
      ],
      "metadata": {
        "id": "6sUUs40UcwWf"
      },
      "execution_count": null,
      "outputs": []
    },
    {
      "cell_type": "code",
      "source": [
        "#Corroboramos valores nulos\n",
        "valores_nulos=micro.isnull().sum()\n",
        "valores_nulos"
      ],
      "metadata": {
        "id": "86opI82wdOWw"
      },
      "execution_count": null,
      "outputs": []
    },
    {
      "cell_type": "code",
      "source": [
        "micro['arrival_of_the_freight_vehicle']=micro['arrival_of_the_freight_vehicle'].fillna(4)\n",
        "micro\n",
        "  "
      ],
      "metadata": {
        "id": "K9DSn1WldR8M"
      },
      "execution_count": null,
      "outputs": []
    },
    {
      "cell_type": "code",
      "source": [
        "micro['serving_customer']=micro['serving_customer'].fillna(4)\n",
        "micro\n",
        " "
      ],
      "metadata": {
        "id": "Nq9DgxOrwP8S"
      },
      "execution_count": null,
      "outputs": []
    },
    {
      "cell_type": "code",
      "source": [
        "micro['company_if_visible']=micro['company_if_visible'].fillna(5)\n",
        "micro\n"
      ],
      "metadata": {
        "id": "f35bKS4XdfJ0"
      },
      "execution_count": null,
      "outputs": []
    },
    {
      "cell_type": "code",
      "source": [
        "valores_nulos=micro.isnull().sum()\n",
        "valores_nulos"
      ],
      "metadata": {
        "id": "P3yyzUpldsQI"
      },
      "execution_count": null,
      "outputs": []
    },
    {
      "cell_type": "code",
      "source": [
        "micro['plates']=micro['plates'].fillna(6)\n",
        "micro\n"
      ],
      "metadata": {
        "id": "Qy2RKFQ9dxpw"
      },
      "execution_count": null,
      "outputs": []
    },
    {
      "cell_type": "code",
      "source": [
        "valores_nulos=micro.isnull().sum()\n",
        "valores_nulos"
      ],
      "metadata": {
        "id": "rluX41vod8l4"
      },
      "execution_count": null,
      "outputs": []
    },
    {
      "cell_type": "code",
      "source": [
        "valores_nulos=micro.isnull().sum().sum()\n",
        "valores_nulos"
      ],
      "metadata": {
        "id": "3Ygg21tmeCFR"
      },
      "execution_count": null,
      "outputs": []
    },
    {
      "cell_type": "code",
      "source": [
        "#Realizamos diagrama de caja o bigote de cada columna del \n",
        "fig=plt.figure(figsize=(15,8))\n",
        "micro.plot(kind='box',vert=False)\n",
        "plt.title(\"Valores Atipicos del dataframe\")\n",
        "plt.show()\n"
      ],
      "metadata": {
        "id": "WvkS88-VgTNA"
      },
      "execution_count": null,
      "outputs": []
    },
    {
      "cell_type": "code",
      "source": [
        "from numpy.lib.function_base import percentile\n",
        "y=micro['serving_customer']\n",
        "percentile25=y.quantile(0.25) \n",
        "percentile75=y.quantile(0.75) \n",
        "iqr=percentile75 -percentile25\n",
        "Limite_superior_iqr=percentile75 + 1.5*iqr\n",
        "Limite_inferior_iqr=percentile25 - 1.5*iqr\n",
        "print('Limite superior permitido',Limite_superior_iqr)\n",
        "print('Limite inferior permitido', Limite_inferior_iqr)"
      ],
      "metadata": {
        "colab": {
          "base_uri": "https://localhost:8080/"
        },
        "id": "JYnbiwQFeX5J",
        "outputId": "1fafec18-929b-487b-f789-4cbb145a2463"
      },
      "execution_count": 31,
      "outputs": [
        {
          "output_type": "stream",
          "name": "stdout",
          "text": [
            "Limite superior permitido 4.0\n",
            "Limite inferior permitido 4.0\n"
          ]
        }
      ]
    },
    {
      "cell_type": "code",
      "source": [
        "#Encontramos outliers del dataframe\n",
        "outliers_iqr=micro[(y<Limite_superior_iqr)|(y>Limite_inferior_iqr)]\n",
        "outliers_iqr"
      ],
      "metadata": {
        "id": "nixxDOIIhscV"
      },
      "execution_count": null,
      "outputs": []
    },
    {
      "cell_type": "code",
      "source": [
        "#Obtenemos datos limpios\n",
        "data_clean_iqr=micro[(y<=Limite_superior_iqr)&(y>=Limite_inferior_iqr)]\n",
        "data_clean_iqr"
      ],
      "metadata": {
        "id": "djkMAv-PjAmH"
      },
      "execution_count": null,
      "outputs": []
    },
    {
      "cell_type": "code",
      "source": [
        "#Realizamos diagrama de caja o bigote de cada columna del \n",
        "fig=plt.figure(figsize=(15,8))\n",
        "plt.boxplot(data_clean_iqr[\"serving_customer\"])\n",
        "plt.title(\"Outliers de serving_customer\")\n",
        "plt.show()\n"
      ],
      "metadata": {
        "id": "yRSEoAMukImO"
      },
      "execution_count": null,
      "outputs": []
    },
    {
      "cell_type": "code",
      "source": [
        "from numpy.lib.function_base import percentile\n",
        "y=micro['number_of_available_trolleys']\n",
        "percentile25=y.quantile(0.25) \n",
        "percentile75=y.quantile(0.75) \n",
        "iqr=percentile75 -percentile25\n",
        "Limite_superior_iqr=percentile75 + 1.5*iqr\n",
        "Limite_inferior_iqr=percentile25 - 1.5*iqr\n",
        "print('Limite superior permitido',Limite_superior_iqr)\n",
        "print('Limite inferior permitido', Limite_inferior_iqr)"
      ],
      "metadata": {
        "colab": {
          "base_uri": "https://localhost:8080/"
        },
        "id": "vEeZUu0_m8vQ",
        "outputId": "eecb82a1-3d92-4fde-9b45-455aa17f92fe"
      },
      "execution_count": 30,
      "outputs": [
        {
          "output_type": "stream",
          "name": "stdout",
          "text": [
            "Limite superior permitido 2.5\n",
            "Limite inferior permitido -1.5\n"
          ]
        }
      ]
    },
    {
      "cell_type": "code",
      "source": [
        "#Encontramos outliers del dataframe\n",
        "outliers_iqr=micro[(y>Limite_superior_iqr)|(y<Limite_inferior_iqr)]\n",
        "outliers_iqr"
      ],
      "metadata": {
        "id": "AZoaupmhnZnH"
      },
      "execution_count": null,
      "outputs": []
    },
    {
      "cell_type": "code",
      "source": [
        "#Obtenemos datos limpios\n",
        "data_clean_iqr=micro[(y<=Limite_superior_iqr)&(y>=Limite_inferior_iqr)]\n",
        "data_clean_iqr"
      ],
      "metadata": {
        "id": "cgVL_Cwtni7a"
      },
      "execution_count": null,
      "outputs": []
    },
    {
      "cell_type": "code",
      "source": [
        "#Realizamos diagrama de caja o bigote de cada columna del \n",
        "fig=plt.figure(figsize=(5,3))\n",
        "plt.boxplot(data_clean_iqr[\"number_of_available_trolleys\"])\n",
        "plt.title(\"Outliers de number_of_available_trolleys\")\n",
        "plt.show() \n"
      ],
      "metadata": {
        "colab": {
          "base_uri": "https://localhost:8080/",
          "height": 227
        },
        "id": "efZweJfmnr5p",
        "outputId": "5bf6541a-8413-40fb-9313-f2d2b61ed05e"
      },
      "execution_count": 32,
      "outputs": [
        {
          "output_type": "display_data",
          "data": {
            "text/plain": [
              "<Figure size 360x216 with 1 Axes>"
            ],
            "image/png": "[encoded data removed]"
          },
          "metadata": {
            "needs_background": "light"
          }
        }
      ]
    },
    {
      "cell_type": "code",
      "source": [
        "#Realizamos una copia del dataframe\n",
        "data3=data_clean_iqr.copy()"
      ],
      "metadata": {
        "id": "Nfl8xJOdoFow"
      },
      "execution_count": 33,
      "outputs": []
    },
    {
      "cell_type": "code",
      "source": [
        "from numpy.lib.function_base import percentile\n",
        "y=micro['number_of_operators']\n",
        "percentile25=y.quantile(0.25) \n",
        "percentile75=y.quantile(0.75) \n",
        "iqr=percentile75 -percentile25\n",
        "Limite_superior_iqr=percentile75 + 1.5*iqr\n",
        "Limite_inferior_iqr=percentile25 - 1.5*iqr\n",
        "print('Limite superior permitido',Limite_superior_iqr)\n",
        "print('Limite inferior permitido', Limite_inferior_iqr)"
      ],
      "metadata": {
        "colab": {
          "base_uri": "https://localhost:8080/"
        },
        "id": "4lAt_hz5oxgZ",
        "outputId": "9e8fd2a3-851c-46bb-eb4a-8cf9c18eb84b"
      },
      "execution_count": 34,
      "outputs": [
        {
          "output_type": "stream",
          "name": "stdout",
          "text": [
            "Limite superior permitido 3.5\n",
            "Limite inferior permitido -0.5\n"
          ]
        }
      ]
    },
    {
      "cell_type": "code",
      "source": [
        "#Encontramos outliers del dataframe\n",
        "outliers_iqr=micro[(y<Limite_superior_iqr)|(y>Limite_inferior_iqr)]\n",
        "outliers_iqr"
      ],
      "metadata": {
        "id": "JbpZvzrHo803"
      },
      "execution_count": null,
      "outputs": []
    },
    {
      "cell_type": "code",
      "source": [
        "#Realizamos diagrama de caja o bigote de cada columna del \n",
        "fig=plt.figure(figsize=(5,5))\n",
        "plt.boxplot(data_clean_iqr[\"number_of_operators\"])\n",
        "plt.title(\"Outliers de number_of_operators\")\n",
        "plt.show()"
      ],
      "metadata": {
        "id": "FFA2Pm_Po_Jj"
      },
      "execution_count": null,
      "outputs": []
    },
    {
      "cell_type": "code",
      "source": [
        "#Convertir dataframe a CSV\n",
        "from google.colab import files \n",
        "files.download('lastmile_delivery_operaions.csv')"
      ],
      "metadata": {
        "id": "3t6mA28xpRlt"
      },
      "execution_count": null,
      "outputs": []
    }
  ]
}