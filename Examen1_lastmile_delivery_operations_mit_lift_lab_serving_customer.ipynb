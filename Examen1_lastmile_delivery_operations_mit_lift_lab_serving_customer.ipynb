{
  "nbformat": 4,
  "nbformat_minor": 0,
  "metadata": {
    "colab": {
      "provenance": [],
      "include_colab_link": true
    },
    "kernelspec": {
      "name": "python3",
      "display_name": "Python 3"
    },
    "language_info": {
      "name": "python"
    }
  },
  "cells": [
    {
      "cell_type": "markdown",
      "metadata": {
        "id": "view-in-github",
        "colab_type": "text"
      },
      "source": [
        "<a href=\"https://colab.research.google.com/github/MaxEV2003/Examen1/blob/main/Examen1_lastmile_delivery_operations_mit_lift_lab_serving_customer.ipynb\" target=\"_parent\"><img src=\"https://colab.research.google.com/assets/colab-badge.svg\" alt=\"Open In Colab\"/></a>"
      ]
    },
    {
      "cell_type": "code",
      "execution_count": 1,
      "metadata": {
        "id": "n-syPpOgcAfT"
      },
      "outputs": [],
      "source": [
        "#Importamos librerias requeridas\n",
        "import pandas as pd\n",
        "import numpy as np\n",
        "import matplotlib.pyplot as plt"
      ]
    },
    {
      "cell_type": "code",
      "source": [
        "#Cargar archivo xlsx desde equipo\n",
        "from google.colab import files\n",
        "files.upload()"
      ],
      "metadata": {
        "id": "62GdhztlFd8f"
      },
      "execution_count": null,
      "outputs": []
    },
    {
      "cell_type": "code",
      "source": [
        "#Carga desde archivo .csv sin indice\n",
        "last_mile_customer=pd.read_csv(\"lastmile_delivery_operations_mit_lift_lab_serving_customer.csv\")\n",
        "last_mile_customer"
      ],
      "metadata": {
        "id": "V4xxEe0zcinM"
      },
      "execution_count": null,
      "outputs": []
    },
    {
      "cell_type": "code",
      "source": [
        "#Verificamos información del DataFrame\n",
        "last_mile_customer.info() "
      ],
      "metadata": {
        "id": "VSziH1lJn56u"
      },
      "execution_count": null,
      "outputs": []
    },
    {
      "cell_type": "code",
      "source": [
        "#Corroboramos valores nulos\n",
        "valores_nulos=last_mile_customer.isnull().sum()\n",
        "valores_nulos"
      ],
      "metadata": {
        "id": "13HIyZxCUBFD"
      },
      "execution_count": null,
      "outputs": []
    },
    {
      "cell_type": "markdown",
      "source": [
        "Quitamos valores nulos\n"
      ],
      "metadata": {
        "id": "81EHU0V6rA2t"
      }
    },
    {
      "cell_type": "code",
      "source": [
        "#3° metodo de sustitucion de valores nulos\n",
        "#sustituir valores nulos por un valor numerico en concreto\n",
        "last_mile_customer['picture_cargo_being_delivered_captions']=last_mile_customer['picture_cargo_being_delivered_captions'].fillna(\"picture_cargo_being_delivered_captions\")\n",
        "last_mile_customer\n"
      ],
      "metadata": {
        "id": "JRGorXoxrELc"
      },
      "execution_count": null,
      "outputs": []
    },
    {
      "cell_type": "code",
      "source": [
        "#Corroboramos valores nulos\n",
        "valores_nulos=last_mile_customer.isnull().sum()\n",
        "valores_nulos"
      ],
      "metadata": {
        "id": "XCJZ0U5OrWri"
      },
      "execution_count": null,
      "outputs": []
    },
    {
      "cell_type": "code",
      "source": [
        "last_mile_customer['picture_cargo_being_delivered']=last_mile_customer['picture_cargo_being_delivered'].fillna(\"picture_cargo_being_delivered\")\n",
        "last_mile_customer#Usamos el metodo como manera de sustitucion de valores y se rellenan \n"
      ],
      "metadata": {
        "id": "Ee3A0eLisV9o"
      },
      "execution_count": null,
      "outputs": []
    },
    {
      "cell_type": "code",
      "source": [
        "#Corroboramos valores nulos\n",
        "valores_nulos=last_mile_customer.isnull().sum()\n",
        "valores_nulos"
      ],
      "metadata": {
        "id": "5ZN2VRhFsmlW"
      },
      "execution_count": null,
      "outputs": []
    },
    {
      "cell_type": "code",
      "source": [
        "last_mile_customer['picture_cargo_being_delivered_urls']=last_mile_customer['picture_cargo_being_delivered_urls'].fillna(\"picture_cargo_being_delivered_urls\")\n",
        "last_mile_customer"
      ],
      "metadata": {
        "id": "oaTv-UmWcjjj"
      },
      "execution_count": null,
      "outputs": []
    },
    {
      "cell_type": "code",
      "source": [
        "#Corroboramos valores nulos\n",
        "valores_nulos=last_mile_customer.isnull().sum()\n",
        "valores_nulos"
      ],
      "metadata": {
        "id": "6sUUs40UcwWf"
      },
      "execution_count": null,
      "outputs": []
    },
    {
      "cell_type": "code",
      "source": [
        "#Corroboramos valores nulos\n",
        "valores_nulos=last_mile_customer.isnull().sum().sum()\n",
        "valores_nulos"
      ],
      "metadata": {
        "id": "3Ygg21tmeCFR"
      },
      "execution_count": null,
      "outputs": []
    },
    {
      "cell_type": "code",
      "source": [
        "#Realizamos diagrama de caja o bigote de cada columna del \n",
        "fig=plt.figure(figsize=(15,8))\n",
        "last_mile_customer.plot(kind='box',vert=False)\n",
        "plt.title(\"Valores Atipicos del dataframe\")\n",
        "plt.show()\n"
      ],
      "metadata": {
        "id": "WvkS88-VgTNA"
      },
      "execution_count": null,
      "outputs": []
    },
    {
      "cell_type": "code",
      "source": [
        "from numpy.lib.function_base import percentile\n",
        "y=last_mile_customer['number_of_customers_in_store']\n",
        "percentile25=y.quantile(0.25) \n",
        "percentile75=y.quantile(0.75) \n",
        "iqr=percentile75 -percentile25\n",
        "Limite_superior_iqr=percentile75 + 1.5*iqr\n",
        "Limite_inferior_iqr=percentile25 - 1.5*iqr\n",
        "print('Limite superior permitido',Limite_superior_iqr)\n",
        "print('Limite inferior permitido', Limite_inferior_iqr)"
      ],
      "metadata": {
        "colab": {
          "base_uri": "https://localhost:8080/"
        },
        "id": "JYnbiwQFeX5J",
        "outputId": "fa1e2904-7a17-4a84-8752-9eb50c99cbd9"
      },
      "execution_count": null,
      "outputs": [
        {
          "output_type": "stream",
          "name": "stdout",
          "text": [
            "Limite superior permitido 5.0\n",
            "Limite inferior permitido -3.0\n"
          ]
        }
      ]
    },
    {
      "cell_type": "code",
      "source": [
        "#Encontramos outliers del dataframe\n",
        "outliers_iqr=last_mile_customer[(y<Limite_superior_iqr)|(y>Limite_inferior_iqr)]\n",
        "outliers_iqr"
      ],
      "metadata": {
        "id": "nixxDOIIhscV"
      },
      "execution_count": null,
      "outputs": []
    },
    {
      "cell_type": "code",
      "source": [
        "#Obtenemos datos limpios\n",
        "data_clean_iqr=last_mile_customer[(y<=Limite_superior_iqr)&(y>=Limite_inferior_iqr)]\n",
        "data_clean_iqr"
      ],
      "metadata": {
        "id": "djkMAv-PjAmH"
      },
      "execution_count": null,
      "outputs": []
    },
    {
      "cell_type": "code",
      "source": [
        "#Realizamos diagrama de caja o bigote de cada columna del \n",
        "fig=plt.figure(figsize=(15,8))\n",
        "plt.boxplot(data_clean_iqr[\"number_of_customers_in_store\"])\n",
        "plt.title(\"number_of_customers_in_store\")\n",
        "plt.show()\n"
      ],
      "metadata": {
        "colab": {
          "base_uri": "https://localhost:8080/",
          "height": 499
        },
        "id": "yRSEoAMukImO",
        "outputId": "e8ed4b4f-747e-46bf-af02-a0b68d061d27"
      },
      "execution_count": null,
      "outputs": [
        {
          "output_type": "display_data",
          "data": {
            "text/plain": [
              "<Figure size 1080x576 with 1 Axes>"
            ],
            "image/png": "[encoded data removed]"
          },
          "metadata": {
            "needs_background": "light"
          }
        }
      ]
    },
    {
      "cell_type": "code",
      "source": [
        "#Realizamos una copia del dataframe\n",
        "micro=last_mile_customer.copy()"
      ],
      "metadata": {
        "id": "5-EzGc5rUqeq"
      },
      "execution_count": null,
      "outputs": []
    },
    {
      "cell_type": "code",
      "source": [
        "from numpy.lib.function_base import percentile\n",
        "y=micro['number_of_suppliers_in_store']\n",
        "percentile25=y.quantile(0.25) \n",
        "percentile75=y.quantile(0.75) \n",
        "iqr=percentile75 -percentile25\n",
        "Limite_superior_iqr=percentile75 + 1.5*iqr\n",
        "Limite_inferior_iqr=percentile25 - 1.5*iqr\n",
        "print('Limite superior permitido',Limite_superior_iqr)\n",
        "print('Limite inferior permitido', Limite_inferior_iqr)"
      ],
      "metadata": {
        "colab": {
          "base_uri": "https://localhost:8080/"
        },
        "id": "vEeZUu0_m8vQ",
        "outputId": "b2a7c3e4-c9f0-48d9-9594-6088a03d12ce"
      },
      "execution_count": null,
      "outputs": [
        {
          "output_type": "stream",
          "name": "stdout",
          "text": [
            "Limite superior permitido 3.5\n",
            "Limite inferior permitido -0.5\n"
          ]
        }
      ]
    },
    {
      "cell_type": "code",
      "source": [
        "#Encontramos outliers del dataframe\n",
        "outliers_iqr=last_mile_customer[(y>Limite_superior_iqr)|(y<Limite_inferior_iqr)]\n",
        "outliers_iqr"
      ],
      "metadata": {
        "id": "AZoaupmhnZnH"
      },
      "execution_count": null,
      "outputs": []
    },
    {
      "cell_type": "code",
      "source": [
        "#Obtenemos datos limpios\n",
        "data_clean_iqr=micro[(y<=Limite_superior_iqr)&(y>=Limite_inferior_iqr)]\n",
        "data_clean_iqr"
      ],
      "metadata": {
        "id": "cgVL_Cwtni7a"
      },
      "execution_count": null,
      "outputs": []
    },
    {
      "cell_type": "code",
      "source": [
        "#Realizamos diagrama de caja o bigote de cada columna del \n",
        "fig=plt.figure(figsize=(5,3))\n",
        "plt.boxplot(data_clean_iqr[\"number_of_suppliers_in_store\"])\n",
        "plt.title(\"Outliers de number_of_suppliers_in_store\")\n",
        "plt.show()\n"
      ],
      "metadata": {
        "colab": {
          "base_uri": "https://localhost:8080/",
          "height": 227
        },
        "id": "efZweJfmnr5p",
        "outputId": "5f3265ae-4bca-491b-f077-15207742eabf"
      },
      "execution_count": null,
      "outputs": [
        {
          "output_type": "display_data",
          "data": {
            "text/plain": [
              "<Figure size 360x216 with 1 Axes>"
            ],
            "image/png": "[encoded data removed]"
          },
          "metadata": {
            "needs_background": "light"
          }
        }
      ]
    },
    {
      "cell_type": "code",
      "source": [
        "#Realizamos una copia del dataframe\n",
        "data3=data_clean_iqr.copy()"
      ],
      "metadata": {
        "id": "Nfl8xJOdoFow"
      },
      "execution_count": null,
      "outputs": []
    },
    {
      "cell_type": "code",
      "source": [
        "from numpy.lib.function_base import percentile\n",
        "y=micro['number_of_cases_boxes_delivered']\n",
        "percentile25=y.quantile(0.25) \n",
        "percentile75=y.quantile(0.75) \n",
        "iqr=percentile75 -percentile25\n",
        "Limite_superior_iqr=percentile75 + 1.5*iqr\n",
        "Limite_inferior_iqr=percentile25 - 1.5*iqr\n",
        "print('Limite superior permitido',Limite_superior_iqr)\n",
        "print('Limite inferior permitido', Limite_inferior_iqr)"
      ],
      "metadata": {
        "colab": {
          "base_uri": "https://localhost:8080/"
        },
        "id": "4lAt_hz5oxgZ",
        "outputId": "79f5aa3b-f4ab-4bcd-9847-1bf528f9333f"
      },
      "execution_count": null,
      "outputs": [
        {
          "output_type": "stream",
          "name": "stdout",
          "text": [
            "Limite superior permitido 12.0\n",
            "Limite inferior permitido -4.0\n"
          ]
        }
      ]
    },
    {
      "cell_type": "code",
      "source": [
        "#Encontramos outliers del dataframe\n",
        "outliers_iqr=micro[(y<Limite_superior_iqr)|(y>Limite_inferior_iqr)]\n",
        "outliers_iqr"
      ],
      "metadata": {
        "id": "JbpZvzrHo803"
      },
      "execution_count": null,
      "outputs": []
    },
    {
      "cell_type": "code",
      "source": [
        "#Realizamos diagrama de caja o bigote de cada columna del \n",
        "fig=plt.figure(figsize=(5,5))\n",
        "plt.boxplot(data_clean_iqr[\"number_of_cases_boxes_delivered\"])\n",
        "plt.title(\"Outliers de number_of_cases_boxes_delivered\")\n",
        "plt.show()"
      ],
      "metadata": {
        "colab": {
          "base_uri": "https://localhost:8080/",
          "height": 336
        },
        "id": "FFA2Pm_Po_Jj",
        "outputId": "da3a3499-6733-423a-e4bf-96a9c69f506e"
      },
      "execution_count": null,
      "outputs": [
        {
          "output_type": "display_data",
          "data": {
            "text/plain": [
              "<Figure size 360x360 with 1 Axes>"
            ],
            "image/png": "[encoded data removed]"
          },
          "metadata": {
            "needs_background": "light"
          }
        }
      ]
    },
    {
      "cell_type": "code",
      "source": [
        "#Realizamos una copia del dataframe\n",
        "data3=data_clean_iqr.copy()"
      ],
      "metadata": {
        "id": "gndNnkZ30cm7"
      },
      "execution_count": null,
      "outputs": []
    },
    {
      "cell_type": "code",
      "source": [
        "from numpy.lib.function_base import percentile\n",
        "y=micro['_edited_duration']\n",
        "percentile25=y.quantile(0.25) \n",
        "percentile75=y.quantile(0.75)\n",
        "iqr=percentile75 -percentile25\n",
        "Limite_superior_iqr=percentile75 + 1.5*iqr\n",
        "Limite_inferior_iqr=percentile25 - 1.5*iqr\n",
        "print('Limite superior permitido',Limite_superior_iqr)\n",
        "print('Limite inferior permitido', Limite_inferior_iqr)"
      ],
      "metadata": {
        "colab": {
          "base_uri": "https://localhost:8080/"
        },
        "id": "q7GRImqv0idD",
        "outputId": "d2a470ff-15c5-402f-ba18-0b5610f59d85"
      },
      "execution_count": null,
      "outputs": [
        {
          "output_type": "stream",
          "name": "stdout",
          "text": [
            "Limite superior permitido 172.0\n",
            "Limite inferior permitido -32.0\n"
          ]
        }
      ]
    },
    {
      "cell_type": "code",
      "source": [
        "#Encontramos outliers del dataframe\n",
        "outliers_iqr=last_mile_customer[(y<Limite_superior_iqr)|(y>Limite_inferior_iqr)]\n",
        "outliers_iqr"
      ],
      "metadata": {
        "id": "zwGumUTB0t8y"
      },
      "execution_count": null,
      "outputs": []
    },
    {
      "cell_type": "code",
      "source": [
        "#Realizamos diagrama de caja o bigote de cada columna del \n",
        "fig=plt.figure(figsize=(5,5))\n",
        "plt.boxplot(data_clean_iqr[\"_edited_duration\"])\n",
        "plt.title(\"_edited_duration\")\n",
        "plt.show()"
      ],
      "metadata": {
        "colab": {
          "base_uri": "https://localhost:8080/",
          "height": 336
        },
        "id": "hZgIW0IC015q",
        "outputId": "6b6a2a97-e60f-4a8a-ec63-8abc9c797d3a"
      },
      "execution_count": null,
      "outputs": [
        {
          "output_type": "display_data",
          "data": {
            "text/plain": [
              "<Figure size 360x360 with 1 Axes>"
            ],
            "image/png": "[encoded data removed]"
          },
          "metadata": {
            "needs_background": "light"
          }
        }
      ]
    },
    {
      "cell_type": "code",
      "source": [
        "#Realizamos una copia del dataframe\n",
        "data3=data_clean_iqr.copy()"
      ],
      "metadata": {
        "id": "WASaWFJD1afu"
      },
      "execution_count": null,
      "outputs": []
    },
    {
      "cell_type": "code",
      "source": [
        "from numpy.lib.function_base import percentile\n",
        "y=last_mile_customer['_updated_duration']\n",
        "percentile25=y.quantile(0.25) \n",
        "percentile75=y.quantile(0.75) \n",
        "iqr=percentile75 -percentile25\n",
        "Limite_superior_iqr=percentile75 + 1.5*iqr\n",
        "Limite_inferior_iqr=percentile25 - 1.5*iqr\n",
        "print('Limite superior permitido',Limite_superior_iqr)\n",
        "print('Limite inferior permitido', Limite_inferior_iqr)"
      ],
      "metadata": {
        "colab": {
          "base_uri": "https://localhost:8080/"
        },
        "id": "Vof9XNma1WsD",
        "outputId": "19281137-9b71-4996-c745-2057ad311ad4"
      },
      "execution_count": null,
      "outputs": [
        {
          "output_type": "stream",
          "name": "stdout",
          "text": [
            "Limite superior permitido 177.25\n",
            "Limite inferior permitido -40.75\n"
          ]
        }
      ]
    },
    {
      "cell_type": "code",
      "source": [
        "#Encontramos outliers del dataframe\n",
        "outliers_iqr=micro[(y<Limite_superior_iqr)|(y>Limite_inferior_iqr)]\n",
        "outliers_iqr"
      ],
      "metadata": {
        "id": "mW00Cuaw1mAb"
      },
      "execution_count": null,
      "outputs": []
    },
    {
      "cell_type": "code",
      "source": [
        "#Realizamos diagrama de caja o bigote de cada columna del \n",
        "fig=plt.figure(figsize=(5,7))\n",
        "plt.boxplot(data_clean_iqr[\"_updated_duration\"])\n",
        "plt.title(\"_updated_duration\")\n",
        "plt.show()"
      ],
      "metadata": {
        "colab": {
          "base_uri": "https://localhost:8080/",
          "height": 444
        },
        "id": "36YMLhM51pLk",
        "outputId": "9fa094d9-7c5a-4c69-92ca-dd08b1e8526d"
      },
      "execution_count": null,
      "outputs": [
        {
          "output_type": "display_data",
          "data": {
            "text/plain": [
              "<Figure size 360x504 with 1 Axes>"
            ],
            "image/png": "[encoded data removed]"
          },
          "metadata": {
            "needs_background": "light"
          }
        }
      ]
    },
    {
      "cell_type": "code",
      "source": [
        "#Convertir dataframe a CSV\n",
        "from google.colab import files \n",
        "files.download('lastmile_delivery_operations_mit_lift_lab_serving_customer.csv')"
      ],
      "metadata": {
        "colab": {
          "base_uri": "https://localhost:8080/",
          "height": 17
        },
        "id": "3t6mA28xpRlt",
        "outputId": "94bdca4c-3412-41c5-fa90-9d600d3d5a9a"
      },
      "execution_count": 25,
      "outputs": [
        {
          "output_type": "display_data",
          "data": {
            "text/plain": [
              "<IPython.core.display.Javascript object>"
            ],
            "application/javascript": [
              "\n",
              "    async function download(id, filename, size) {\n",
              "      if (!google.colab.kernel.accessAllowed) {\n",
              "        return;\n",
              "      }\n",
              "      const div = document.createElement('div');\n",
              "      const label = document.createElement('label');\n",
              "      label.textContent = `Downloading \"${filename}\": `;\n",
              "      div.appendChild(label);\n",
              "      const progress = document.createElement('progress');\n",
              "      progress.max = size;\n",
              "      div.appendChild(progress);\n",
              "      document.body.appendChild(div);\n",
              "\n",
              "      const buffers = [];\n",
              "      let downloaded = 0;\n",
              "\n",
              "      const channel = await google.colab.kernel.comms.open(id);\n",
              "      // Send a message to notify the kernel that we're ready.\n",
              "      channel.send({})\n",
              "\n",
              "      for await (const message of channel.messages) {\n",
              "        // Send a message to notify the kernel that we're ready.\n",
              "        channel.send({})\n",
              "        if (message.buffers) {\n",
              "          for (const buffer of message.buffers) {\n",
              "            buffers.push(buffer);\n",
              "            downloaded += buffer.byteLength;\n",
              "            progress.value = downloaded;\n",
              "          }\n",
              "        }\n",
              "      }\n",
              "      const blob = new Blob(buffers, {type: 'application/binary'});\n",
              "      const a = document.createElement('a');\n",
              "      a.href = window.URL.createObjectURL(blob);\n",
              "      a.download = filename;\n",
              "      div.appendChild(a);\n",
              "      a.click();\n",
              "      div.remove();\n",
              "    }\n",
              "  "
            ]
          },
          "metadata": {}
        },
        {
          "output_type": "display_data",
          "data": {
            "text/plain": [
              "<IPython.core.display.Javascript object>"
            ],
            "application/javascript": [
              "download(\"download_73fda633-f9ba-4943-ae2c-4328dca15ec0\", \"lastmile_delivery_operations_mit_lift_lab_serving_customer.csv\", 21519)"
            ]
          },
          "metadata": {}
        }
      ]
    }
  ]
}