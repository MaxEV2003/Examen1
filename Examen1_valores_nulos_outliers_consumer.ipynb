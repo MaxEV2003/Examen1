{
  "nbformat": 4,
  "nbformat_minor": 0,
  "metadata": {
    "colab": {
      "provenance": [],
      "include_colab_link": true
    },
    "kernelspec": {
      "name": "python3",
      "display_name": "Python 3"
    },
    "language_info": {
      "name": "python"
    }
  },
  "cells": [
    {
      "cell_type": "markdown",
      "metadata": {
        "id": "view-in-github",
        "colab_type": "text"
      },
      "source": [
        "<a href=\"https://colab.research.google.com/github/MaxEV2003/Examen1/blob/main/Examen1_valores_nulos_outliers_consumer.ipynb\" target=\"_parent\"><img src=\"https://colab.research.google.com/assets/colab-badge.svg\" alt=\"Open In Colab\"/></a>"
      ]
    },
    {
      "cell_type": "code",
      "execution_count": null,
      "metadata": {
        "id": "wZQYEKy_wYuP"
      },
      "outputs": [],
      "source": [
        "#Importamos librerias requeridas para que el código funcione\n",
        "import pandas as pd\n",
        "import numpy as np\n",
        "import matplotlib.pyplot as plt"
      ]
    },
    {
      "cell_type": "code",
      "source": [
        "#Cargar archivo .xlsx sin indice\n",
        "from google.colab import files \n",
        "files.upload()"
      ],
      "metadata": {
        "id": "G9_D1gtF6OvG"
      },
      "execution_count": null,
      "outputs": []
    },
    {
      "cell_type": "code",
      "source": [
        "#Carga desde un archivo .xlsx sin indice \n",
        "consumer=pd.read_excel(\"consumer_mit_lift_lab.xlsx\") "
      ],
      "metadata": {
        "id": "eTfzbt0m6h8C"
      },
      "execution_count": null,
      "outputs": []
    },
    {
      "cell_type": "code",
      "source": [
        "#Verificamos información del DataFrame\n",
        "consumer.info() "
      ],
      "metadata": {
        "id": "3iOoAnA266Ld"
      },
      "execution_count": null,
      "outputs": []
    },
    {
      "cell_type": "code",
      "source": [
        "#Carga desde archivo excel sin indice\n",
        "data=pd.read_excel(\"consumer_mit_lift_lab.xlsx\")\n",
        "data.head() "
      ],
      "metadata": {
        "id": "z8BrOnd67h6H"
      },
      "execution_count": null,
      "outputs": []
    },
    {
      "cell_type": "code",
      "source": [
        "#Corroboramos valores nulos\n",
        "valores_nulos=data.isnull().sum()\n",
        "valores_nulos "
      ],
      "metadata": {
        "id": "ftXziHie9Cpi"
      },
      "execution_count": null,
      "outputs": []
    },
    {
      "cell_type": "code",
      "source": [
        "#Realizamos una copia del dataframe\n",
        "data2=data.copy()"
      ],
      "metadata": {
        "id": "xjHO7cZNb1DM"
      },
      "execution_count": null,
      "outputs": []
    },
    {
      "cell_type": "markdown",
      "source": [
        "**Quitar valores nulos**"
      ],
      "metadata": {
        "id": "buyAlvOKZyrb"
      }
    },
    {
      "cell_type": "code",
      "source": [
        "#Tercer método de sustitución de valores nulos\n",
        "#Sustituir valores nulos por un string en concreto \n",
        "data2[\"300_did_not_find\"]=data2[\"300_did_not_find\"].fillna(\"x_producto\")\n",
        "data2 "
      ],
      "metadata": {
        "id": "3C1HO0sdZ1u9"
      },
      "execution_count": null,
      "outputs": []
    },
    {
      "cell_type": "code",
      "source": [
        "#Corroboramos valores nulos\n",
        "valores_nulos=data2.isnull().sum()\n",
        "valores_nulos "
      ],
      "metadata": {
        "id": "XP57a8NDcJPe"
      },
      "execution_count": null,
      "outputs": []
    },
    {
      "cell_type": "code",
      "source": [
        "#Se usa el mismo tipo de método para quitar valores nulos en todos los que lo necesitan \n",
        "data2[\"284_additional_products_store\"]=data2[\"284_additional_products_store\"].fillna(\"284_additional_products_store\")\n",
        "data2 "
      ],
      "metadata": {
        "id": "kGCuZb3Ld01K"
      },
      "execution_count": null,
      "outputs": []
    },
    {
      "cell_type": "code",
      "source": [
        "#Corroboramos valores nulos\n",
        "valores_nulos=data2.isnull().sum()\n",
        "valores_nulos"
      ],
      "metadata": {
        "id": "CAEr9o4Od8W8"
      },
      "execution_count": null,
      "outputs": []
    },
    {
      "cell_type": "code",
      "source": [
        "#Sexto método de sustitución de valores nulos\n",
        "#Filtro por columnas\n",
        "data2[\"305_electricity_bill_store\"]=data2[\"305_electricity_bill_store\"].fillna(method=\"bfill\")\n",
        "data2"
      ],
      "metadata": {
        "id": "MG8i-wP2eIN1"
      },
      "execution_count": null,
      "outputs": []
    },
    {
      "cell_type": "code",
      "source": [
        "#Corroboramos valores nulos\n",
        "valores_nulos=data2.isnull().sum()\n",
        "valores_nulos"
      ],
      "metadata": {
        "id": "mCrVrcnTePJl"
      },
      "execution_count": null,
      "outputs": []
    },
    {
      "cell_type": "code",
      "source": [
        "#Mismo método que la línea 13 y 15\n",
        "data2[\"306_water_bill_store\"]=data2[\"306_water_bill_store\"].fillna(\"306_water_bill_store\")\n",
        "data2"
      ],
      "metadata": {
        "id": "9prxcDeseRwl"
      },
      "execution_count": null,
      "outputs": []
    },
    {
      "cell_type": "code",
      "source": [
        "#Corroboramos valores nulos\n",
        "valores_nulos=data2.isnull().sum()\n",
        "valores_nulos"
      ],
      "metadata": {
        "id": "nGHQ9YZgeZEQ"
      },
      "execution_count": null,
      "outputs": []
    },
    {
      "cell_type": "code",
      "source": [
        "#Método de sustitución de valores nulos\n",
        "#Sustituir valores nulos por valores no nulos hacia atras \"backward fill\"(\"bfill\")\n",
        "data2[\"307_gas_bill_store\"]=data2[\"307_gas_bill_store\"].fillna(method=\"bfill\")\n",
        "data2"
      ],
      "metadata": {
        "id": "mBT1_dQcedGn"
      },
      "execution_count": null,
      "outputs": []
    },
    {
      "cell_type": "code",
      "source": [
        "#Corroboramos valores nulos\n",
        "valores_nulos=data2.isnull().sum()\n",
        "valores_nulos"
      ],
      "metadata": {
        "id": "hs77JUTXekTE"
      },
      "execution_count": null,
      "outputs": []
    },
    {
      "cell_type": "code",
      "source": [
        "#Método de sustitución de valores nulos\n",
        "#Sustituir valores nulos por un valor numérico o string en concreto\n",
        "data2[\"308_topups_in_store\"]=data2[\"308_topups_in_store\"].fillna(\"308_topups_in_store\")\n",
        "data2"
      ],
      "metadata": {
        "id": "dTcQPN1lemXm"
      },
      "execution_count": null,
      "outputs": []
    },
    {
      "cell_type": "code",
      "source": [
        "#Corroboramos valores nulos\n",
        "valores_nulos=data2.isnull().sum()\n",
        "valores_nulos"
      ],
      "metadata": {
        "id": "aFTprLGPeu2H"
      },
      "execution_count": null,
      "outputs": []
    },
    {
      "cell_type": "code",
      "source": [
        "#Método de sustitución de valores nulos\n",
        "#Sustituir valores nulos por valores no nulos hacia atras \"backward fill\"(\"bfill\")\n",
        "data2[\"309_wiretransfers_in_store\"]=data2[\"309_wiretransfers_in_store\"].fillna(method=\"bfill\")\n",
        "data2"
      ],
      "metadata": {
        "id": "uUzC347cewvc"
      },
      "execution_count": null,
      "outputs": []
    },
    {
      "cell_type": "code",
      "source": [
        "#Corroboramos valores nulos\n",
        "valores_nulos=data2.isnull().sum()\n",
        "valores_nulos"
      ],
      "metadata": {
        "id": "UwUyUZeae3z4"
      },
      "execution_count": null,
      "outputs": []
    },
    {
      "cell_type": "code",
      "source": [
        "#Método de sustitución de valores nulos\n",
        "data2[\"304_additional_services_store\"]=data2[\"304_additional_services_store\"].fillna(\"304_additional_services_store\")\n",
        "data2"
      ],
      "metadata": {
        "id": "rOFrjCUte7Tu"
      },
      "execution_count": null,
      "outputs": []
    },
    {
      "cell_type": "code",
      "source": [
        "#Corroboramos valores nulos\n",
        "valores_nulos=data2.isnull().sum()\n",
        "valores_nulos"
      ],
      "metadata": {
        "id": "FWDJNSKlfCRy"
      },
      "execution_count": null,
      "outputs": []
    },
    {
      "cell_type": "code",
      "source": [
        "#Método de sustitución de valores nulos\n",
        "data2[\"storefront_picture_just_once_if_possible\"]=data2[\"storefront_picture_just_once_if_possible\"].fillna(method=\"bfill\")\n",
        "data2"
      ],
      "metadata": {
        "id": "MoawPLpQfHhi"
      },
      "execution_count": null,
      "outputs": []
    },
    {
      "cell_type": "code",
      "source": [
        "#Corroboramos valores nulos\n",
        "valores_nulos=data2.isnull().sum()\n",
        "valores_nulos "
      ],
      "metadata": {
        "id": "llMkrCeEfRIm"
      },
      "execution_count": null,
      "outputs": []
    },
    {
      "cell_type": "code",
      "source": [
        "#Corroboramos valores nulos\n",
        "valores_nulos=data2.isnull().sum().sum()\n",
        "valores_nulos "
      ],
      "metadata": {
        "id": "EWW7RyAHfTMr"
      },
      "execution_count": null,
      "outputs": []
    },
    {
      "cell_type": "markdown",
      "source": [
        "**Procedimiento \"Cuantiles\" para sustituir outliers en dataframe**"
      ],
      "metadata": {
        "id": "SPcyQ_BngDjc"
      }
    },
    {
      "cell_type": "code",
      "source": [
        "#Realizamos diagrama de caja o bigote de cada columna del dataframe\n",
        "fig=plt.figure(figsize=(15,8)) \n",
        "data2.plot(kind=\"box\",vert=False) \n",
        "plt.title(\"Valores atípicos del DataFrame\") \n",
        "plt.show()"
      ],
      "metadata": {
        "id": "r6vsjmUAh2Q0"
      },
      "execution_count": null,
      "outputs": []
    },
    {
      "cell_type": "code",
      "source": [
        "#Método aplicando Cuartiles. Encuentro cuartiles 0.25 y 0.75 \n",
        "y=data2[\"241_age_of_the_interviewee\"] \n",
        "percentile25=y.quantile(0.25) \n",
        "percentile75=y.quantile(0.75)\n",
        "iqr=percentile75 - percentile25 \n",
        "Limite_Superior_iqr=percentile75+1.5*iqr \n",
        "Limite_Inferior_iqr=percentile25-1.5*iqr \n",
        "print(\"Limite superior permitido\", Limite_Superior_iqr)\n",
        "print(\"Limite interior permitido\", Limite_Inferior_iqr) "
      ],
      "metadata": {
        "id": "49HH_BAogIMo"
      },
      "execution_count": null,
      "outputs": []
    },
    {
      "cell_type": "code",
      "source": [
        "#Encontramos outliers del dataframe\n",
        "outliers_iqr=data2[(y>Limite_Superior_iqr)|(y<Limite_Inferior_iqr)]\n",
        "outliers_iqr "
      ],
      "metadata": {
        "id": "dZBnl7Zlgo_U"
      },
      "execution_count": null,
      "outputs": []
    },
    {
      "cell_type": "code",
      "source": [
        "#Obtenemos datos limpios del DataFrame\n",
        "data3_iqr=data2[(y<=Limite_Superior_iqr)&(y>=Limite_Inferior_iqr)]\n",
        "data3_iqr"
      ],
      "metadata": {
        "id": "j0ypSKPVgssX"
      },
      "execution_count": null,
      "outputs": []
    },
    {
      "cell_type": "code",
      "source": [
        "#Realizamos diagrama de caja o bigote de cada columna del dataframe\n",
        "fig=plt.figure(figsize=(5,3)) \n",
        "plt.boxplot(data3_iqr[\"241_age_of_the_interviewee\"]) \n",
        "plt.title(\"Valores atípicos de la edad de los entrevistados\") \n",
        "plt.show()"
      ],
      "metadata": {
        "id": "hfUROrCximg6"
      },
      "execution_count": null,
      "outputs": []
    },
    {
      "cell_type": "code",
      "source": [
        "#Realizamos una copia del dataframe\n",
        "consumer=data3_iqr.copy()"
      ],
      "metadata": {
        "id": "EgbL9NXPktFN"
      },
      "execution_count": null,
      "outputs": []
    },
    {
      "cell_type": "markdown",
      "source": [
        "Se hace el mismo procedimiento para todas las columnas con datos atípicos "
      ],
      "metadata": {
        "id": "lJjpYx-sdOXA"
      }
    },
    {
      "cell_type": "code",
      "source": [
        "#Método aplicando Cuartiles. Encuentro cuartiles 0.25 y 0.75 \n",
        "y=data2[\"84_willingness_sameday_delivery\"]\n",
        "percentile25=y.quantile(0.25)\n",
        "percentile75=y.quantile(0.75)\n",
        "iqr=percentile75 - percentile25\n",
        "\n",
        "Limite_Superior_iqr=percentile75+1.5*iqr\n",
        "Limite_Inferior_iqr=percentile25-1.5*iqr\n",
        "print(\"Limite superior permitido\", Limite_Superior_iqr)\n",
        "print(\"Limite interior permitido\", Limite_Inferior_iqr)"
      ],
      "metadata": {
        "colab": {
          "base_uri": "https://localhost:8080/"
        },
        "id": "5W-KmN3Kjjwh",
        "outputId": "5b77f797-ca2a-41c6-8e97-1c50500c48f4"
      },
      "execution_count": null,
      "outputs": [
        {
          "output_type": "stream",
          "name": "stdout",
          "text": [
            "Limite superior permitido 231.25\n",
            "Limite interior permitido -118.75\n"
          ]
        }
      ]
    },
    {
      "cell_type": "code",
      "source": [
        "#Encontramos outliers del dataframe\n",
        "outliers_iqr=data2[(y>Limite_Superior_iqr)|(y<Limite_Inferior_iqr)]\n",
        "outliers_iqr"
      ],
      "metadata": {
        "id": "RWlVbY24kFzb"
      },
      "execution_count": null,
      "outputs": []
    },
    {
      "cell_type": "code",
      "source": [
        "#Obtenemos datos limpios del DataFrame\n",
        "data3_iqr=data2[(y<=Limite_Superior_iqr)&(y>=Limite_Inferior_iqr)]\n",
        "data3_iqr"
      ],
      "metadata": {
        "id": "SnjrnwEykJ1d"
      },
      "execution_count": null,
      "outputs": []
    },
    {
      "cell_type": "code",
      "source": [
        "#Realizamos diagrama de caja o bigote de cada columna del dataframe\n",
        "fig=plt.figure(figsize=(5,3))\n",
        "plt.boxplot(data3_iqr[\"84_willingness_sameday_delivery\"])\n",
        "plt.title(\"Valores atípicos del DataFrame\")\n",
        "plt.show() #dibujamos el diagrama"
      ],
      "metadata": {
        "id": "-Hahg2tMkNIx"
      },
      "execution_count": null,
      "outputs": []
    },
    {
      "cell_type": "code",
      "source": [
        "#Realizamos una copia del dataframe\n",
        "consumer=data3_iqr.copy()"
      ],
      "metadata": {
        "id": "ThFil7UnpRFK"
      },
      "execution_count": null,
      "outputs": []
    },
    {
      "cell_type": "code",
      "source": [
        "#Método aplicando Cuartiles. Encuentro cuartiles 0.25 y 0.75 \n",
        "y=data2[\"83_willingness_ultrafast_delivery\"]\n",
        "percentile25=y.quantile(0.25)\n",
        "percentile75=y.quantile(0.75)\n",
        "iqr=percentile75 - percentile25\n",
        "\n",
        "Limite_Superior_iqr=percentile75+1.5*iqr\n",
        "Limite_Inferior_iqr=percentile25-1.5*iqr\n",
        "print(\"Limite superior permitido\", Limite_Superior_iqr)\n",
        "print(\"Limite interior permitido\", Limite_Inferior_iqr)"
      ],
      "metadata": {
        "colab": {
          "base_uri": "https://localhost:8080/"
        },
        "id": "eM02Mf-2p1nT",
        "outputId": "bc86ad56-2741-40eb-c0b1-15f6f41fbc6c"
      },
      "execution_count": null,
      "outputs": [
        {
          "output_type": "stream",
          "name": "stdout",
          "text": [
            "Limite superior permitido 102.5\n",
            "Limite interior permitido -37.5\n"
          ]
        }
      ]
    },
    {
      "cell_type": "code",
      "source": [
        "#Encontramos outliers del dataframe\n",
        "outliers_iqr=data2[(y>Limite_Superior_iqr)|(y<Limite_Inferior_iqr)]\n",
        "outliers_iqr"
      ],
      "metadata": {
        "id": "RDGchiN_qBZR"
      },
      "execution_count": null,
      "outputs": []
    },
    {
      "cell_type": "code",
      "source": [
        "#Obtenemos datos limpios del DataFrame\n",
        "data3_iqr=data2[(y<=Limite_Superior_iqr)&(y>=Limite_Inferior_iqr)]\n",
        "data3_iqr"
      ],
      "metadata": {
        "id": "cVRvu50YqJpZ"
      },
      "execution_count": null,
      "outputs": []
    },
    {
      "cell_type": "code",
      "source": [
        "#Realizamos diagrama de caja o bigote de cada columna del dataframe\n",
        "fig=plt.figure(figsize=(5,3))\n",
        "plt.boxplot(data3_iqr[\"83_willingness_ultrafast_delivery\"])\n",
        "plt.title(\"Valores atípicos del DataFrame\")\n",
        "plt.show() #dibujamos el diagrama"
      ],
      "metadata": {
        "id": "cBGzEzOTqMbi"
      },
      "execution_count": null,
      "outputs": []
    },
    {
      "cell_type": "code",
      "source": [
        "#Realizamos una copia del dataframe\n",
        "consumer=data3_iqr.copy()"
      ],
      "metadata": {
        "id": "uw9L__ObqS34"
      },
      "execution_count": null,
      "outputs": []
    },
    {
      "cell_type": "code",
      "source": [
        "#Método aplicando Cuartiles. Encuentro cuartiles 0.25 y 0.75 \n",
        "y=data2[\"289_number_whatsapp_purchases_month\"]\n",
        "percentile25=y.quantile(0.25)\n",
        "percentile75=y.quantile(0.75)\n",
        "iqr=percentile75 - percentile25\n",
        "\n",
        "Limite_Superior_iqr=percentile75+1.5*iqr\n",
        "Limite_Inferior_iqr=percentile25-1.5*iqr\n",
        "print(\"Limite superior permitido\", Limite_Superior_iqr)\n",
        "print(\"Limite interior permitido\", Limite_Inferior_iqr)"
      ],
      "metadata": {
        "colab": {
          "base_uri": "https://localhost:8080/"
        },
        "id": "M1CedJlKqVdv",
        "outputId": "bf8b7af2-0d40-474b-8f23-933648690aa6"
      },
      "execution_count": null,
      "outputs": [
        {
          "output_type": "stream",
          "name": "stdout",
          "text": [
            "Limite superior permitido 2.5\n",
            "Limite interior permitido -1.5\n"
          ]
        }
      ]
    },
    {
      "cell_type": "code",
      "source": [
        "#Encontramos outliers del dataframe\n",
        "outliers_iqr=data2[(y>Limite_Superior_iqr)|(y<Limite_Inferior_iqr)]\n",
        "outliers_iqr"
      ],
      "metadata": {
        "id": "hvf-e6Xoqobo"
      },
      "execution_count": null,
      "outputs": []
    },
    {
      "cell_type": "code",
      "source": [
        "#Obtenemos datos limpios del DataFrame\n",
        "data3_iqr=data2[(y<=Limite_Superior_iqr)&(y>=Limite_Inferior_iqr)]\n",
        "data3_iqr"
      ],
      "metadata": {
        "id": "Kk61m4Xpqq6S"
      },
      "execution_count": null,
      "outputs": []
    },
    {
      "cell_type": "code",
      "source": [
        "#Realizamos diagrama de caja o bigote de cada columna del dataframe\n",
        "fig=plt.figure(figsize=(5,3))\n",
        "plt.boxplot(data3_iqr[\"289_number_whatsapp_purchases_month\"])\n",
        "plt.title(\"Valores atípicos del DataFrame\")\n",
        "plt.show() #dibujamos el diagrama"
      ],
      "metadata": {
        "id": "L2tGlF7Iqv4S"
      },
      "execution_count": null,
      "outputs": []
    },
    {
      "cell_type": "code",
      "source": [
        "#Realizamos una copia del dataframe\n",
        "consumer=data3_iqr.copy()"
      ],
      "metadata": {
        "id": "bp71EiJKsjZU"
      },
      "execution_count": null,
      "outputs": []
    },
    {
      "cell_type": "code",
      "source": [
        "#Método aplicando Cuartiles. Encuentro cuartiles 0.25 y 0.75 \n",
        "y=data2[\"288_number_app_purchases_month\"]\n",
        "percentile25=y.quantile(0.25)\n",
        "percentile75=y.quantile(0.75)\n",
        "iqr=percentile75 - percentile25\n",
        "\n",
        "Limite_Superior_iqr=percentile75+1.5*iqr\n",
        "Limite_Inferior_iqr=percentile25-1.5*iqr\n",
        "print(\"Limite superior permitido\", Limite_Superior_iqr)\n",
        "print(\"Limite interior permitido\", Limite_Inferior_iqr)"
      ],
      "metadata": {
        "colab": {
          "base_uri": "https://localhost:8080/"
        },
        "id": "XTWfGs_nsoFV",
        "outputId": "8a1ed799-c881-4c3d-cecb-0551dad46116"
      },
      "execution_count": null,
      "outputs": [
        {
          "output_type": "stream",
          "name": "stdout",
          "text": [
            "Limite superior permitido 12.5\n",
            "Limite interior permitido -7.5\n"
          ]
        }
      ]
    },
    {
      "cell_type": "code",
      "source": [
        "#Encontramos outliers del dataframe\n",
        "outliers_iqr=data2[(y>Limite_Superior_iqr)|(y<Limite_Inferior_iqr)]\n",
        "outliers_iqr"
      ],
      "metadata": {
        "id": "W8sdIupHtEnP"
      },
      "execution_count": null,
      "outputs": []
    },
    {
      "cell_type": "code",
      "source": [
        "#Obtenemos datos limpios del DataFrame\n",
        "data3_iqr=data2[(y<=Limite_Superior_iqr)&(y>=Limite_Inferior_iqr)]\n",
        "data3_iqr"
      ],
      "metadata": {
        "id": "bw2rHUr7tI0l"
      },
      "execution_count": null,
      "outputs": []
    },
    {
      "cell_type": "code",
      "source": [
        "#Realizamos diagrama de caja o bigote de cada columna del dataframe\n",
        "fig=plt.figure(figsize=(5,3))\n",
        "plt.boxplot(data3_iqr[\"288_number_app_purchases_month\"])\n",
        "plt.title(\"Valores atípicos del DataFrame\")\n",
        "plt.show() #dibujamos el diagrama"
      ],
      "metadata": {
        "colab": {
          "base_uri": "https://localhost:8080/",
          "height": 227
        },
        "id": "DBww1j20tQI3",
        "outputId": "09153861-cf47-4f06-b1d9-8d929454b104"
      },
      "execution_count": null,
      "outputs": [
        {
          "output_type": "display_data",
          "data": {
            "text/plain": [
              "<Figure size 360x216 with 1 Axes>"
            ],
            "image/png": "[encoded data removed]"
          },
          "metadata": {
            "needs_background": "light"
          }
        }
      ]
    },
    {
      "cell_type": "code",
      "source": [
        "#Realizamos una copia del dataframe\n",
        "consumer=data3_iqr.copy()"
      ],
      "metadata": {
        "id": "B5dA-dlJKdsm"
      },
      "execution_count": null,
      "outputs": []
    },
    {
      "cell_type": "code",
      "source": [
        "#Método aplicando Cuartiles. Encuentro cuartiles 0.25 y 0.75 \n",
        "y=data2[\"81_number_online_purchases_month\"]\n",
        "percentile25=y.quantile(0.25)\n",
        "percentile75=y.quantile(0.75)\n",
        "iqr=percentile75 - percentile25\n",
        "\n",
        "Limite_Superior_iqr=percentile75+1.5*iqr\n",
        "Limite_Inferior_iqr=percentile25-1.5*iqr\n",
        "print(\"Limite superior permitido\", Limite_Superior_iqr)\n",
        "print(\"Limite interior permitido\", Limite_Inferior_iqr)"
      ],
      "metadata": {
        "colab": {
          "base_uri": "https://localhost:8080/"
        },
        "id": "mwubEeCVSBO1",
        "outputId": "50afd629-fd00-4fff-aad1-536e10ffd2e5"
      },
      "execution_count": null,
      "outputs": [
        {
          "output_type": "stream",
          "name": "stdout",
          "text": [
            "Limite superior permitido 6.0\n",
            "Limite interior permitido -2.0\n"
          ]
        }
      ]
    },
    {
      "cell_type": "code",
      "source": [
        "#Encontramos outliers del dataframe\n",
        "outliers_iqr=data2[(y>Limite_Superior_iqr)|(y<Limite_Inferior_iqr)]\n",
        "outliers_iqr"
      ],
      "metadata": {
        "id": "0tywCKT9SZDI"
      },
      "execution_count": null,
      "outputs": []
    },
    {
      "cell_type": "code",
      "source": [
        "#Obtenemos datos limpios del DataFrame\n",
        "data3_iqr=data2[(y<=Limite_Superior_iqr)&(y>=Limite_Inferior_iqr)]\n",
        "data3_iqr"
      ],
      "metadata": {
        "id": "mYIvoUbBSb6X"
      },
      "execution_count": null,
      "outputs": []
    },
    {
      "cell_type": "code",
      "source": [
        "#Realizamos diagrama de caja o bigote de cada columna del dataframe\n",
        "fig=plt.figure(figsize=(5,3))\n",
        "plt.boxplot(data3_iqr[\"81_number_online_purchases_month\"])\n",
        "plt.title(\"Valores atípicos del DataFrame\")\n",
        "plt.show() #dibujamos el diagrama"
      ],
      "metadata": {
        "colab": {
          "base_uri": "https://localhost:8080/",
          "height": 227
        },
        "id": "joCSUy8FSfSG",
        "outputId": "0c02ae3c-52f9-49b9-8884-ac31e9f4f2c7"
      },
      "execution_count": null,
      "outputs": [
        {
          "output_type": "display_data",
          "data": {
            "text/plain": [
              "<Figure size 360x216 with 1 Axes>"
            ],
            "image/png": "[encoded data removed]"
          },
          "metadata": {
            "needs_background": "light"
          }
        }
      ]
    },
    {
      "cell_type": "code",
      "source": [
        "#Realizamos una copia del dataframe\n",
        "consumer=data3_iqr.copy()"
      ],
      "metadata": {
        "id": "ua5l462zSz-5"
      },
      "execution_count": null,
      "outputs": []
    },
    {
      "cell_type": "code",
      "source": [
        "#Método aplicando Cuartiles. Encuentro cuartiles 0.25 y 0.75 \n",
        "y=data2[\"238_frequency_buying_store\"]\n",
        "percentile25=y.quantile(0.25)\n",
        "percentile75=y.quantile(0.75)\n",
        "iqr=percentile75 - percentile25\n",
        "\n",
        "Limite_Superior_iqr=percentile75+1.5*iqr\n",
        "Limite_Inferior_iqr=percentile25-1.5*iqr\n",
        "print(\"Limite superior permitido\", Limite_Superior_iqr)\n",
        "print(\"Limite interior permitido\", Limite_Inferior_iqr)"
      ],
      "metadata": {
        "colab": {
          "base_uri": "https://localhost:8080/"
        },
        "id": "ShCDgYciS2yL",
        "outputId": "9b17b783-ce9d-4642-c963-fab5b8eff44f"
      },
      "execution_count": null,
      "outputs": [
        {
          "output_type": "stream",
          "name": "stdout",
          "text": [
            "Limite superior permitido 6.0\n",
            "Limite interior permitido -2.0\n"
          ]
        }
      ]
    },
    {
      "cell_type": "code",
      "source": [
        "#Encontramos outliers del dataframe\n",
        "outliers_iqr=data2[(y>Limite_Superior_iqr)|(y<Limite_Inferior_iqr)]\n",
        "outliers_iqr"
      ],
      "metadata": {
        "id": "VXYE7qPJTEO4"
      },
      "execution_count": null,
      "outputs": []
    },
    {
      "cell_type": "code",
      "source": [
        "#Obtenemos datos limpios del DataFrame\n",
        "data3_iqr=data2[(y<=Limite_Superior_iqr)&(y>=Limite_Inferior_iqr)]\n",
        "data3_iqr"
      ],
      "metadata": {
        "id": "6l51K9lHTHE4"
      },
      "execution_count": null,
      "outputs": []
    },
    {
      "cell_type": "code",
      "source": [
        "#Realizamos diagrama de caja o bigote de cada columna del dataframe\n",
        "fig=plt.figure(figsize=(5,3))\n",
        "plt.boxplot(data3_iqr[\"238_frequency_buying_store\"])\n",
        "plt.title(\"Valores atípicos del DataFrame\")\n",
        "plt.show() #dibujamos el diagrama"
      ],
      "metadata": {
        "id": "8qmBlgArTKXp"
      },
      "execution_count": null,
      "outputs": []
    },
    {
      "cell_type": "markdown",
      "source": [
        "**Convertir DataSet sin valores nulos a CSV**"
      ],
      "metadata": {
        "id": "er1yF_EY7y1r"
      }
    },
    {
      "cell_type": "code",
      "source": [
        "#Convertir DataFrame a CSV\n",
        "data3_iqr.to_csv(\"consumer_mit_lift_lab_limpio.csv\") #una vez que se quitaron los valores nulos y los atípicos se convierte un archivo cvs"
      ],
      "metadata": {
        "id": "qwADplDN70-k"
      },
      "execution_count": null,
      "outputs": []
    },
    {
      "cell_type": "code",
      "source": [
        "#descargar archivo filtrado en csv\n",
        "from google.colab import files\n",
        "\n",
        "files.download(\"consumer_mit_lift_lab_limpio.csv\") #se descarga el documento .csv con los datos limpio"
      ],
      "metadata": {
        "colab": {
          "base_uri": "https://localhost:8080/",
          "height": 17
        },
        "id": "bENrJYV09kFJ",
        "outputId": "9311520c-455f-4d5b-afa7-e60ea22ed46d"
      },
      "execution_count": null,
      "outputs": [
        {
          "output_type": "display_data",
          "data": {
            "text/plain": [
              "<IPython.core.display.Javascript object>"
            ],
            "application/javascript": [
              "\n",
              "    async function download(id, filename, size) {\n",
              "      if (!google.colab.kernel.accessAllowed) {\n",
              "        return;\n",
              "      }\n",
              "      const div = document.createElement('div');\n",
              "      const label = document.createElement('label');\n",
              "      label.textContent = `Downloading \"${filename}\": `;\n",
              "      div.appendChild(label);\n",
              "      const progress = document.createElement('progress');\n",
              "      progress.max = size;\n",
              "      div.appendChild(progress);\n",
              "      document.body.appendChild(div);\n",
              "\n",
              "      const buffers = [];\n",
              "      let downloaded = 0;\n",
              "\n",
              "      const channel = await google.colab.kernel.comms.open(id);\n",
              "      // Send a message to notify the kernel that we're ready.\n",
              "      channel.send({})\n",
              "\n",
              "      for await (const message of channel.messages) {\n",
              "        // Send a message to notify the kernel that we're ready.\n",
              "        channel.send({})\n",
              "        if (message.buffers) {\n",
              "          for (const buffer of message.buffers) {\n",
              "            buffers.push(buffer);\n",
              "            downloaded += buffer.byteLength;\n",
              "            progress.value = downloaded;\n",
              "          }\n",
              "        }\n",
              "      }\n",
              "      const blob = new Blob(buffers, {type: 'application/binary'});\n",
              "      const a = document.createElement('a');\n",
              "      a.href = window.URL.createObjectURL(blob);\n",
              "      a.download = filename;\n",
              "      div.appendChild(a);\n",
              "      a.click();\n",
              "      div.remove();\n",
              "    }\n",
              "  "
            ]
          },
          "metadata": {}
        },
        {
          "output_type": "display_data",
          "data": {
            "text/plain": [
              "<IPython.core.display.Javascript object>"
            ],
            "application/javascript": [
              "download(\"download_eb7bb502-9c0f-4da2-b3e4-624d224a77c9\", \"consumer_mit_lift_lab_limpio.csv\", 57317)"
            ]
          },
          "metadata": {}
        }
      ]
    }
  ]
}