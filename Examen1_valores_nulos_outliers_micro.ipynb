{
  "nbformat": 4,
  "nbformat_minor": 0,
  "metadata": {
    "colab": {
      "provenance": [],
      "include_colab_link": true
    },
    "kernelspec": {
      "name": "python3",
      "display_name": "Python 3"
    },
    "language_info": {
      "name": "python"
    }
  },
  "cells": [
    {
      "cell_type": "markdown",
      "metadata": {
        "id": "view-in-github",
        "colab_type": "text"
      },
      "source": [
        "<a href=\"https://colab.research.google.com/github/MaxEV2003/Examen1/blob/main/Examen1_valores_nulos_outliers_micro.ipynb\" target=\"_parent\"><img src=\"https://colab.research.google.com/assets/colab-badge.svg\" alt=\"Open In Colab\"/></a>"
      ]
    },
    {
      "cell_type": "code",
      "execution_count": 2,
      "metadata": {
        "id": "wZQYEKy_wYuP"
      },
      "outputs": [],
      "source": [
        "#Importamos librerias requeridas\n",
        "import pandas as pd\n",
        "import numpy as np\n",
        "import matplotlib.pyplot as plt"
      ]
    },
    {
      "cell_type": "code",
      "source": [
        "#Cargar archivo .xlsx sin indice\n",
        "from google.colab import files \n",
        "files.upload()"
      ],
      "metadata": {
        "id": "G9_D1gtF6OvG"
      },
      "execution_count": null,
      "outputs": []
    },
    {
      "cell_type": "code",
      "source": [
        "#Carga desde un archivo .xlsx sin indice \n",
        "micro=pd.read_excel(\"microretailer_mit_lift_lab.xlsx\") "
      ],
      "metadata": {
        "id": "eTfzbt0m6h8C"
      },
      "execution_count": 4,
      "outputs": []
    },
    {
      "cell_type": "code",
      "source": [
        "#Verificamos información del DataFrame\n",
        "micro.info() "
      ],
      "metadata": {
        "id": "3iOoAnA266Ld"
      },
      "execution_count": null,
      "outputs": []
    },
    {
      "cell_type": "code",
      "source": [
        "#Carga desde archivo excel sin indice\n",
        "micro=pd.read_excel(\"microretailer_mit_lift_lab.xlsx\")\n",
        "micro.head() "
      ],
      "metadata": {
        "id": "z8BrOnd67h6H"
      },
      "execution_count": null,
      "outputs": []
    },
    {
      "cell_type": "code",
      "source": [
        "#Corroboramos valores nulos\n",
        "valores_nulos=micro.isnull().sum()\n",
        "valores_nulos "
      ],
      "metadata": {
        "id": "ftXziHie9Cpi"
      },
      "execution_count": null,
      "outputs": []
    },
    {
      "cell_type": "code",
      "source": [
        "#Realizamos una copia del dataframe\n",
        "data2=micro.copy()"
      ],
      "metadata": {
        "id": "xjHO7cZNb1DM"
      },
      "execution_count": 8,
      "outputs": []
    },
    {
      "cell_type": "markdown",
      "source": [
        "**Quitar valores nulos**"
      ],
      "metadata": {
        "id": "buyAlvOKZyrb"
      }
    },
    {
      "cell_type": "markdown",
      "source": [
        "Para este caso las columnas que tienen los valores nulos superan los que muestra el data frame "
      ],
      "metadata": {
        "id": "CkC8Wzxa1lXV"
      }
    },
    {
      "cell_type": "code",
      "source": [
        "#Tercer método de sustitución de valores nulos\n",
        "#Sustituir valores nulos por un valor numérico en concreto \n",
        "data2[\"234_willingness_participate_workshop\"]=data2[\"234_willingness_participate_workshop\"].fillna(\"234_willingness_participate_workshop\")\n",
        "data2 "
      ],
      "metadata": {
        "id": "3C1HO0sdZ1u9"
      },
      "execution_count": null,
      "outputs": []
    },
    {
      "cell_type": "code",
      "source": [
        "#Corroboramos valores nulos\n",
        "valores_nulos=data2.isnull().sum()\n",
        "valores_nulos"
      ],
      "metadata": {
        "id": "XP57a8NDcJPe"
      },
      "execution_count": null,
      "outputs": []
    },
    {
      "cell_type": "markdown",
      "source": [
        "Se repiten los dos pasos anteriores hasta ya no tener valores nulos"
      ],
      "metadata": {
        "id": "oUonTFZ52Vmd"
      }
    },
    {
      "cell_type": "code",
      "source": [
        "#Tercer método de sustitución de valores nulos\n",
        "#Sustituir valores nulos por un valor numérico en concreto\n",
        "data2[\"318_shopkeeper_name\"]=data2[\"318_shopkeeper_name\"].fillna(\"318_shopkeeper_name\")\n",
        "data2"
      ],
      "metadata": {
        "id": "kGCuZb3Ld01K"
      },
      "execution_count": null,
      "outputs": []
    },
    {
      "cell_type": "code",
      "source": [
        "data2[\"319_shopkeepers_last_name\"]=data2[\"319_shopkeepers_last_name\"].fillna(\"319_shopkeepers_last_name\")\n",
        "data2"
      ],
      "metadata": {
        "id": "MG8i-wP2eIN1"
      },
      "execution_count": null,
      "outputs": []
    },
    {
      "cell_type": "code",
      "source": [
        "#Corroboramos valores nulos\n",
        "valores_nulos=data2.isnull().sum()\n",
        "valores_nulos "
      ],
      "metadata": {
        "id": "mCrVrcnTePJl"
      },
      "execution_count": null,
      "outputs": []
    },
    {
      "cell_type": "code",
      "source": [
        "data2[\"236_whatsapp\"]=data2[\"236_whatsapp\"].fillna(\"236_whatsapp\")\n",
        "data2"
      ],
      "metadata": {
        "id": "9prxcDeseRwl"
      },
      "execution_count": null,
      "outputs": []
    },
    {
      "cell_type": "code",
      "source": [
        "data2[\"235_email\"]=data2[\"235_email\"].fillna(\"235_email\")\n",
        "data2"
      ],
      "metadata": {
        "id": "mBT1_dQcedGn"
      },
      "execution_count": null,
      "outputs": []
    },
    {
      "cell_type": "code",
      "source": [
        "data2[\"233_date_establishment\"]=data2[\"233_date_establishment\"].fillna(\"233_date_establishment\")\n",
        "data2"
      ],
      "metadata": {
        "id": "dTcQPN1lemXm"
      },
      "execution_count": null,
      "outputs": []
    },
    {
      "cell_type": "code",
      "source": [
        "data2[\"2_current_permanent_employees\"]=data2[\"2_current_permanent_employees\"].fillna(\"2_current_permanent_employees\")\n",
        "data2"
      ],
      "metadata": {
        "id": "uUzC347cewvc"
      },
      "execution_count": null,
      "outputs": []
    },
    {
      "cell_type": "code",
      "source": [
        "data2[\"4_number_permanent_employees_last_year\"]=data2[\"4_number_permanent_employees_last_year\"].fillna(\"4_number_permanent_employees_last_year\")\n",
        "data2"
      ],
      "metadata": {
        "id": "rOFrjCUte7Tu"
      },
      "execution_count": null,
      "outputs": []
    },
    {
      "cell_type": "code",
      "source": [
        "data2[\"5_change_store_space_last_year\"]=data2[\"5_change_store_space_last_year\"].fillna(\"5_change_store_space_last_year\")\n",
        "data2"
      ],
      "metadata": {
        "id": "MoawPLpQfHhi"
      },
      "execution_count": null,
      "outputs": []
    },
    {
      "cell_type": "code",
      "source": [
        "data2[\"6_change_employees_average_salary_last_year\"]=data2[\"6_change_employees_average_salary_last_year\"].fillna(\"6_change_employees_average_salary_last_year\")\n",
        "data2"
      ],
      "metadata": {
        "id": "TEL0lHk_G4x1"
      },
      "execution_count": null,
      "outputs": []
    },
    {
      "cell_type": "code",
      "source": [
        "data2[\"20_reviews_finances_monthly\"]=data2[\"20_reviews_finances_monthly\"].fillna(\"20_reviews_finances_monthly\")\n",
        "data2"
      ],
      "metadata": {
        "id": "tBG48c5wG5Cq"
      },
      "execution_count": null,
      "outputs": []
    },
    {
      "cell_type": "code",
      "source": [
        "data2[\"49_inventory_records\"]=data2[\"49_inventory_records\"].fillna(\"49_inventory_records\")\n",
        "data2"
      ],
      "metadata": {
        "id": "OdOP30aCG5UI"
      },
      "execution_count": null,
      "outputs": []
    },
    {
      "cell_type": "code",
      "source": [
        "data2[\"18_sales_records\"]=data2[\"18_sales_records\"].fillna(\"18_sales_records\")\n",
        "data2"
      ],
      "metadata": {
        "id": "lgiqFzGUG82H"
      },
      "execution_count": null,
      "outputs": []
    },
    {
      "cell_type": "code",
      "source": [
        "data2[\"155_sales_registers_used_for\"]=data2[\"155_sales_registers_used_for\"].fillna(\"155_sales_registers_used_for\")\n",
        "data2"
      ],
      "metadata": {
        "id": "wR_InVJkG8-y"
      },
      "execution_count": null,
      "outputs": []
    },
    {
      "cell_type": "code",
      "source": [
        "data2[\"103_number_own_fridges\"]=data2[\"103_number_own_fridges\"].fillna(\"103_number_own_fridges\")\n",
        "data2"
      ],
      "metadata": {
        "id": "IOsaBIJYG9IC"
      },
      "execution_count": null,
      "outputs": []
    },
    {
      "cell_type": "code",
      "source": [
        "\n",
        "data2[\"19_tax_id\"]=data2[\"19_tax_id\"].fillna(\"19_tax_id\")\n",
        "data2"
      ],
      "metadata": {
        "id": "5IV2XzdOG9Tz"
      },
      "execution_count": null,
      "outputs": []
    },
    {
      "cell_type": "code",
      "source": [
        "data2[\"145_number_direct_competitors\"]=data2[\"145_number_direct_competitors\"].fillna(\"145_number_direct_competitors\")\n",
        "data2"
      ],
      "metadata": {
        "id": "TZvYmRjwG9c3"
      },
      "execution_count": null,
      "outputs": []
    },
    {
      "cell_type": "code",
      "source": [
        "data2[\"310_burnout\"]=data2[\"310_burnout\"].fillna(\"310_burnout\")\n",
        "data2"
      ],
      "metadata": {
        "id": "EZRTFQ9CH_ef"
      },
      "execution_count": null,
      "outputs": []
    },
    {
      "cell_type": "code",
      "source": [
        "data2[\"24_burnout\"]=data2[\"24_burnout\"].fillna(\"24_burnout\")\n",
        "data2"
      ],
      "metadata": {
        "id": "2x49vnteH_mO"
      },
      "execution_count": null,
      "outputs": []
    },
    {
      "cell_type": "code",
      "source": [
        "data2[\"186_internet_connection\"]=data2[\"186_internet_connection\"].fillna(\"186_internet_connection\")\n",
        "data2"
      ],
      "metadata": {
        "id": "UvJ5iV7JH_vj"
      },
      "execution_count": null,
      "outputs": []
    },
    {
      "cell_type": "code",
      "source": [
        "data2[\"210_sales_channels\"]=data2[\"210_sales_channels\"].fillna(\"210_sales_channels\")\n",
        "data2"
      ],
      "metadata": {
        "id": "6EL_54EUH_4f"
      },
      "execution_count": null,
      "outputs": []
    },
    {
      "cell_type": "code",
      "source": [
        "data2[\"189_payment_methods\"]=data2[\"189_payment_methods\"].fillna(\"189_payment_methods\")\n",
        "data2"
      ],
      "metadata": {
        "id": "BqP3Q6CMIABw"
      },
      "execution_count": null,
      "outputs": []
    },
    {
      "cell_type": "code",
      "source": [
        "data2[\"28_prefered_payment_method\"]=data2[\"28_prefered_payment_method\"].fillna(\"28_prefered_payment_method\")\n",
        "data2"
      ],
      "metadata": {
        "id": "rOZdyxG_IAoV"
      },
      "execution_count": null,
      "outputs": []
    },
    {
      "cell_type": "code",
      "source": [
        "data2[\"31_different_prices_payment_method\"]=data2[\"31_different_prices_payment_method\"].fillna(\"31_different_prices_payment_method\")\n",
        "data2"
      ],
      "metadata": {
        "id": "gLSq7V2HIAxe"
      },
      "execution_count": null,
      "outputs": []
    },
    {
      "cell_type": "code",
      "source": [
        "data2[\"269_cash_discount\"]=data2[\"269_cash_discount\"].fillna(\"269_cash_discount\")\n",
        "data2"
      ],
      "metadata": {
        "id": "XbDse9A_IA6Q"
      },
      "execution_count": null,
      "outputs": []
    },
    {
      "cell_type": "code",
      "source": [
        "data2[\"270_card_extra_charge\"]=data2[\"270_card_extra_charge\"].fillna(\"270_card_extra_charge\")\n",
        "data2"
      ],
      "metadata": {
        "id": "261Ksu6AIBCo"
      },
      "execution_count": null,
      "outputs": []
    },
    {
      "cell_type": "code",
      "source": [
        "data2[\"271_card_fee\"]=data2[\"271_card_fee\"].fillna(\"271_card_fee\")\n",
        "data2"
      ],
      "metadata": {
        "id": "Hd9eY7-OIBKq"
      },
      "execution_count": null,
      "outputs": []
    },
    {
      "cell_type": "code",
      "source": [
        "data2[\"272_card_days_receive_money\"]=data2[\"272_card_days_receive_money\"].fillna(\"272_card_days_receive_money\")\n",
        "data2"
      ],
      "metadata": {
        "id": "1SL0P87qJP9B"
      },
      "execution_count": null,
      "outputs": []
    },
    {
      "cell_type": "code",
      "source": [
        "data2[\"273_platform_extra_charge\"]=data2[\"273_platform_extra_charge\"].fillna(\"273_platform_extra_charge\")\n",
        "data2"
      ],
      "metadata": {
        "id": "lyDUz_DmJQHZ"
      },
      "execution_count": null,
      "outputs": []
    },
    {
      "cell_type": "code",
      "source": [
        "data2[\"274_platform_fee\"]=data2[\"274_platform_fee\"].fillna(\"274_platform_fee\")\n",
        "data2"
      ],
      "metadata": {
        "id": "kECODNW0JQQi"
      },
      "execution_count": null,
      "outputs": []
    },
    {
      "cell_type": "code",
      "source": [
        "data2[\"275_platform_days_receive_money\"]=data2[\"275_platform_days_receive_money\"].fillna(\"275_platform_days_receive_money\")\n",
        "data2"
      ],
      "metadata": {
        "id": "RSCazmw4JQaH"
      },
      "execution_count": null,
      "outputs": []
    },
    {
      "cell_type": "code",
      "source": [
        "data2[\"30_payment_methods_large_purchases\"]=data2[\"30_payment_methods_large_purchases\"].fillna(\"30_payment_methods_large_purchases\")\n",
        "data2"
      ],
      "metadata": {
        "id": "Vu9D96t2JQix"
      },
      "execution_count": null,
      "outputs": []
    },
    {
      "cell_type": "code",
      "source": [
        "data2[\"214_customer_relationship_tools\"]=data2[\"214_customer_relationship_tools\"].fillna(\"214_customer_relationship_tools\")\n",
        "data2"
      ],
      "metadata": {
        "id": "yesqXVaDJz6B"
      },
      "execution_count": null,
      "outputs": []
    },
    {
      "cell_type": "code",
      "source": [
        "data2[\"33_credit_to_customers\"]=data2[\"33_credit_to_customers\"].fillna(\"33_credit_to_customers\")\n",
        "data2"
      ],
      "metadata": {
        "id": "SntJbegZKKKO"
      },
      "execution_count": null,
      "outputs": []
    },
    {
      "cell_type": "code",
      "source": [
        "data2[\"276_expected_days_informal_credit\"]=data2[\"276_expected_days_informal_credit\"].fillna(\"276_expected_days_informal_credit\")\n",
        "data2"
      ],
      "metadata": {
        "id": "J8FIJP8bKK47"
      },
      "execution_count": null,
      "outputs": []
    },
    {
      "cell_type": "code",
      "source": [
        "data2[\"35_interest_rate\"]=data2[\"35_interest_rate\"].fillna(\"35_interest_rate\")\n",
        "data2"
      ],
      "metadata": {
        "id": "ZEij3RzqKuBA"
      },
      "execution_count": null,
      "outputs": []
    },
    {
      "cell_type": "code",
      "source": [
        "data2[\"36_credit_default_rate\"]=data2[\"36_credit_default_rate\"].fillna(\"36_credit_default_rate\")\n",
        "data2"
      ],
      "metadata": {
        "id": "9nv_4NlxKuLn"
      },
      "execution_count": null,
      "outputs": []
    },
    {
      "cell_type": "code",
      "source": [
        "data2[\"38_average_margin_profits\"]=data2[\"38_average_margin_profits\"].fillna(\"38_average_margin_profits\")\n",
        "data2"
      ],
      "metadata": {
        "id": "wCnJ62ZrKuUE"
      },
      "execution_count": null,
      "outputs": []
    },
    {
      "cell_type": "code",
      "source": [
        "data2[\"193_sales_planning_tools\"]=data2[\"193_sales_planning_tools\"].fillna(\"193_sales_planning_tools\")\n",
        "data2"
      ],
      "metadata": {
        "id": "YxBNkRbaKuds"
      },
      "execution_count": null,
      "outputs": []
    },
    {
      "cell_type": "code",
      "source": [
        "data2[\"227_agreement_ecommerce_platforms\"]=data2[\"227_agreement_ecommerce_platforms\"].fillna(\"227_agreement_ecommerce_platforms\")\n",
        "data2"
      ],
      "metadata": {
        "id": "uxbYLXT2KumP"
      },
      "execution_count": null,
      "outputs": []
    },
    {
      "cell_type": "code",
      "source": [
        "data2[\"60_services\"]=data2[\"60_services\"].fillna(\"60_services\")\n",
        "data2"
      ],
      "metadata": {
        "id": "VwxwCK0GLNdm"
      },
      "execution_count": null,
      "outputs": []
    },
    {
      "cell_type": "code",
      "source": [
        "data2[\"315_frequency_topups\"]=data2[\"315_frequency_topups\"].fillna(\"315_frequency_topups\")\n",
        "data2"
      ],
      "metadata": {
        "id": "cQ9Qvku5LNoA"
      },
      "execution_count": null,
      "outputs": []
    },
    {
      "cell_type": "code",
      "source": [
        "data2[\"316_frequency_utility_bills\"]=data2[\"316_frequency_utility_bills\"].fillna(\"316_frequency_utility_bills\")\n",
        "data2"
      ],
      "metadata": {
        "id": "oSq7t1rcLNxz"
      },
      "execution_count": null,
      "outputs": []
    },
    {
      "cell_type": "code",
      "source": [
        "data2[\"317_home_deliveries\"]=data2[\"317_home_deliveries\"].fillna(\"317_home_deliveries\")\n",
        "data2"
      ],
      "metadata": {
        "id": "toxWXzx-LN7e"
      },
      "execution_count": null,
      "outputs": []
    },
    {
      "cell_type": "code",
      "source": [
        "data2[\"62_frequency_only_services\"]=data2[\"62_frequency_only_services\"].fillna(\"62_frequency_only_services\")\n",
        "data2"
      ],
      "metadata": {
        "id": "KSBM8BSpLOD6"
      },
      "execution_count": null,
      "outputs": []
    },
    {
      "cell_type": "code",
      "source": [
        "data2[\"78_number_home_deliveries_week\"]=data2[\"78_number_home_deliveries_week\"].fillna(\"78_number_home_deliveries_week\")\n",
        "data2"
      ],
      "metadata": {
        "id": "XAtGw7goLOMN"
      },
      "execution_count": null,
      "outputs": []
    },
    {
      "cell_type": "code",
      "source": [
        "data2[\"77_delivery_timeslots\"]=data2[\"77_delivery_timeslots\"].fillna(\"77_delivery_timeslots\")\n",
        "data2"
      ],
      "metadata": {
        "id": "o30-LyjFL5Lv"
      },
      "execution_count": null,
      "outputs": []
    },
    {
      "cell_type": "code",
      "source": [
        "data2[\"79_delivery_vehicle\"]=data2[\"79_delivery_vehicle\"].fillna(\"79_delivery_vehicle\")\n",
        "data2"
      ],
      "metadata": {
        "id": "HaNr2SdVL5gQ"
      },
      "execution_count": null,
      "outputs": []
    },
    {
      "cell_type": "code",
      "source": [
        "data2[\"64_comission_services\"]=data2[\"64_comission_services\"].fillna(\"64_comission_services\")\n",
        "data2"
      ],
      "metadata": {
        "id": "YTACk4_xL5p9"
      },
      "execution_count": null,
      "outputs": []
    },
    {
      "cell_type": "code",
      "source": [
        "data2[\"66_percentaje_services_income\"]=data2[\"66_percentaje_services_income\"].fillna(\"66_percentaje_services_income\")\n",
        "data2"
      ],
      "metadata": {
        "id": "90E56X71L5zx"
      },
      "execution_count": null,
      "outputs": []
    },
    {
      "cell_type": "code",
      "source": [
        "data2[\"69_why_not_services\"]=data2[\"69_why_not_services\"].fillna(\"69_why_not_services\")\n",
        "data2"
      ],
      "metadata": {
        "id": "vmtIv97TL58q"
      },
      "execution_count": null,
      "outputs": []
    },
    {
      "cell_type": "code",
      "source": [
        "data2[\"311_topups\"]=data2[\"311_topups\"].fillna(\"311_topups\")\n",
        "data2"
      ],
      "metadata": {
        "id": "oY3MQkGiL6Eo"
      },
      "execution_count": null,
      "outputs": []
    },
    {
      "cell_type": "code",
      "source": [
        "data2[\"312_payment_of_utilities\"]=data2[\"312_payment_of_utilities\"].fillna(\"312_payment_of_utilities\")\n",
        "data2"
      ],
      "metadata": {
        "id": "eHLYLV_0Mf0I"
      },
      "execution_count": null,
      "outputs": []
    },
    {
      "cell_type": "code",
      "source": [
        "data2[\"313_home_deliveries\"]=data2[\"313_home_deliveries\"].fillna(\"313_home_deliveries\")\n",
        "data2"
      ],
      "metadata": {
        "id": "hZezOcF-Mf_0"
      },
      "execution_count": null,
      "outputs": []
    },
    {
      "cell_type": "code",
      "source": [
        "data2[\"314_reception_delivery_packages\"]=data2[\"314_reception_delivery_packages\"].fillna(\"314_reception_delivery_packages\")\n",
        "data2"
      ],
      "metadata": {
        "id": "7yhzuW9VMgKF"
      },
      "execution_count": null,
      "outputs": []
    },
    {
      "cell_type": "code",
      "source": [
        "data2[\"42_willingness_share_inventory_data_suppliers\"]=data2[\"42_willingness_share_inventory_data_suppliers\"].fillna(\"42_willingness_share_inventory_data_suppliers\")\n",
        "data2"
      ],
      "metadata": {
        "id": "Uta5Q5zZMgVL"
      },
      "execution_count": null,
      "outputs": []
    },
    {
      "cell_type": "code",
      "source": [
        "data2[\"44_willingness_inventory_management_suppliers\"]=data2[\"44_willingness_inventory_management_suppliers\"].fillna(\"44_willingness_inventory_management_suppliers\")\n",
        "data2"
      ],
      "metadata": {
        "id": "gP0Pz54jMgdx"
      },
      "execution_count": null,
      "outputs": []
    },
    {
      "cell_type": "code",
      "source": [
        "data2[\"45_willingness_reorder_suppliers\"]=data2[\"45_willingness_reorder_suppliers\"].fillna(\"45_willingness_reorder_suppliers\")\n",
        "data2"
      ],
      "metadata": {
        "id": "OUwzEL-8Mglw"
      },
      "execution_count": null,
      "outputs": []
    },
    {
      "cell_type": "code",
      "source": [
        "data2[\"46_willingness_reorder_suppliers_variety\"]=data2[\"46_willingness_reorder_suppliers_variety\"].fillna(\"46_willingness_reorder_suppliers_variety\")\n",
        "data2"
      ],
      "metadata": {
        "id": "bh0cyJMBNkTb"
      },
      "execution_count": null,
      "outputs": []
    },
    {
      "cell_type": "code",
      "source": [
        "data2[\"47_willingness_reorder_suppliers_lower_prices\"]=data2[\"47_willingness_reorder_suppliers_lower_prices\"].fillna(\"47_willingness_reorder_suppliers_lower_prices\")\n",
        "data2"
      ],
      "metadata": {
        "id": "fFj07AA5Nkc_"
      },
      "execution_count": null,
      "outputs": []
    },
    {
      "cell_type": "code",
      "source": [
        "data2[\"43_willingness_share_sales_data_suppliers\"]=data2[\"43_willingness_share_sales_data_suppliers\"].fillna(\"43_willingness_share_sales_data_suppliers\")\n",
        "data2"
      ],
      "metadata": {
        "id": "3ZEZA0ocNkls"
      },
      "execution_count": null,
      "outputs": []
    },
    {
      "cell_type": "code",
      "source": [
        "data2[\"58_willingness_share_sales_data_mse\"]=data2[\"58_willingness_share_sales_data_mse\"].fillna(\"58_willingness_share_sales_data_mse\")\n",
        "data2"
      ],
      "metadata": {
        "id": "komhDOA_Nkvi"
      },
      "execution_count": null,
      "outputs": []
    },
    {
      "cell_type": "code",
      "source": [
        "data2[\"59_willingness_share_sales_data_mse_better_prices\"]=data2[\"59_willingness_share_sales_data_mse_better_prices\"].fillna(\"59_willingness_share_sales_data_mse_better_prices\")\n",
        "data2"
      ],
      "metadata": {
        "id": "Jn21pclfNk3h"
      },
      "execution_count": null,
      "outputs": []
    },
    {
      "cell_type": "code",
      "source": [
        "data2[\"172_supplier_frequency\"]=data2[\"172_supplier_frequency\"].fillna(\"172_supplier_frequency\")\n",
        "data2"
      ],
      "metadata": {
        "id": "4PCufB_UNlAd"
      },
      "execution_count": null,
      "outputs": []
    },
    {
      "cell_type": "code",
      "source": [
        "data2[\"185_place_orders_suppliers\"]=data2[\"185_place_orders_suppliers\"].fillna(\"185_place_orders_suppliers\")\n",
        "data2"
      ],
      "metadata": {
        "id": "cPMWcpfTNlOv"
      },
      "execution_count": null,
      "outputs": []
    },
    {
      "cell_type": "code",
      "source": [
        "data2[\"53_special_conditions_suppliers\"]=data2[\"53_special_conditions_suppliers\"].fillna(\"53_special_conditions_suppliers\")\n",
        "data2"
      ],
      "metadata": {
        "id": "y1PcFhm8NlX2"
      },
      "execution_count": null,
      "outputs": []
    },
    {
      "cell_type": "code",
      "source": [
        "data2[\"278_credit_interest\"]=data2[\"278_credit_interest\"].fillna(\"278_credit_interest\")\n",
        "data2"
      ],
      "metadata": {
        "id": "yUgJ3OieOf1Z"
      },
      "execution_count": null,
      "outputs": []
    },
    {
      "cell_type": "code",
      "source": [
        "data2[\"192_procurement_planning_tools\"]=data2[\"192_procurement_planning_tools\"].fillna(\"192_procurement_planning_tools\")\n",
        "data2"
      ],
      "metadata": {
        "id": "ibjkStZeOf-f"
      },
      "execution_count": null,
      "outputs": []
    },
    {
      "cell_type": "code",
      "source": [
        "data2[\"277_payment_method_suppliers\"]=data2[\"277_payment_method_suppliers\"].fillna(\"277_payment_method_suppliers\")\n",
        "data2"
      ],
      "metadata": {
        "id": "dTDIw5PyOgG1"
      },
      "execution_count": null,
      "outputs": []
    },
    {
      "cell_type": "code",
      "source": [
        "data2[\"56_procurement_changes_pandemic\"]=data2[\"56_procurement_changes_pandemic\"].fillna(\"56_procurement_changes_pandemic\")\n",
        "data2"
      ],
      "metadata": {
        "id": "WtAiXcGPOgP8"
      },
      "execution_count": null,
      "outputs": []
    },
    {
      "cell_type": "code",
      "source": [
        "data2[\"279_changes_procurement_pandemic\"]=data2[\"279_changes_procurement_pandemic\"].fillna(\"279_changes_procurement_pandemic\")\n",
        "data2"
      ],
      "metadata": {
        "id": "gShQlpJEOgYH"
      },
      "execution_count": null,
      "outputs": []
    },
    {
      "cell_type": "code",
      "source": [
        "data2[\"157_frequency_organize_shelves\"]=data2[\"157_frequency_organize_shelves\"].fillna(\"157_frequency_organize_shelves\")\n",
        "data2"
      ],
      "metadata": {
        "id": "wu67rJjbOg7q"
      },
      "execution_count": null,
      "outputs": []
    },
    {
      "cell_type": "code",
      "source": [
        "data2[\"158_charact_organize_products_on_shelves\"]=data2[\"158_charact_organize_products_on_shelves\"].fillna(\"158_charact_organize_products_on_shelves\")\n",
        "data2"
      ],
      "metadata": {
        "id": "SKo9IFtrOhJu"
      },
      "execution_count": null,
      "outputs": []
    },
    {
      "cell_type": "code",
      "source": [
        "data2[\"161_actions_stockouts\"]=data2[\"161_actions_stockouts\"].fillna(\"161_actions_stockouts\")\n",
        "data2"
      ],
      "metadata": {
        "id": "kuBfGj_iOhQ2"
      },
      "execution_count": null,
      "outputs": []
    },
    {
      "cell_type": "code",
      "source": [
        "data2[\"162_inventory_extra_space\"]=data2[\"162_inventory_extra_space\"].fillna(\"162_inventory_extra_space\")\n",
        "data2"
      ],
      "metadata": {
        "id": "pLG5gvN1PgiT"
      },
      "execution_count": null,
      "outputs": []
    },
    {
      "cell_type": "code",
      "source": [
        "data2[\"163_number_high_perishable_products\"]=data2[\"163_number_high_perishable_products\"].fillna(\"163_number_high_perishable_products\")\n",
        "data2"
      ],
      "metadata": {
        "id": "q0XRYO1WPgrK"
      },
      "execution_count": null,
      "outputs": []
    },
    {
      "cell_type": "code",
      "source": [
        "data2[\"249_technology_training\"]=data2[\"249_technology_training\"].fillna(\"249_technology_training\")\n",
        "data2"
      ],
      "metadata": {
        "id": "-CujPGrxPgzC"
      },
      "execution_count": null,
      "outputs": []
    },
    {
      "cell_type": "code",
      "source": [
        "data2[\"250_technology_investment_operations\"]=data2[\"250_technology_investment_operations\"].fillna(\"250_technology_investment_operations\")\n",
        "data2"
      ],
      "metadata": {
        "id": "klsdeMooPg7m"
      },
      "execution_count": null,
      "outputs": []
    },
    {
      "cell_type": "code",
      "source": [
        "data2[\"251_technology_investment_customers\"]=data2[\"251_technology_investment_customers\"].fillna(\"251_technology_investment_customers\")\n",
        "data2"
      ],
      "metadata": {
        "id": "OnyfPgw5PhEk"
      },
      "execution_count": null,
      "outputs": []
    },
    {
      "cell_type": "code",
      "source": [
        "data2[\"254_technology_roadmap\"]=data2[\"254_technology_roadmap\"].fillna(\"254_technology_roadmap\")\n",
        "data2"
      ],
      "metadata": {
        "id": "2NGQ4J3wPhPf"
      },
      "execution_count": null,
      "outputs": []
    },
    {
      "cell_type": "code",
      "source": [
        "data2[\"260_technology_scalable\"]=data2[\"260_technology_scalable\"].fillna(\"260_technology_scalable\")\n",
        "data2"
      ],
      "metadata": {
        "id": "FTxcK2zgPhZ8"
      },
      "execution_count": null,
      "outputs": []
    },
    {
      "cell_type": "code",
      "source": [
        "data2[\"261_technology_organization\"]=data2[\"261_technology_organization\"].fillna(\"261_technology_organization\")\n",
        "data2"
      ],
      "metadata": {
        "id": "24peMQ0lPhim"
      },
      "execution_count": null,
      "outputs": []
    },
    {
      "cell_type": "code",
      "source": [
        "data2[\"262_technology_serve_customers\"]=data2[\"262_technology_serve_customers\"].fillna(\"262_technology_serve_customers\")\n",
        "data2"
      ],
      "metadata": {
        "id": "k-IrzPYqQX77"
      },
      "execution_count": null,
      "outputs": []
    },
    {
      "cell_type": "code",
      "source": [
        "data2[\"263_technology_secure_sales\"]=data2[\"263_technology_secure_sales\"].fillna(\"263_technology_secure_sales\")\n",
        "data2"
      ],
      "metadata": {
        "id": "E4QVB7-cQYFT"
      },
      "execution_count": null,
      "outputs": []
    },
    {
      "cell_type": "code",
      "source": [
        "data2[\"264_technology_budget\"]=data2[\"264_technology_budget\"].fillna(\"264_technology_budget\")\n",
        "data2"
      ],
      "metadata": {
        "id": "b8BS5p9LQYOn"
      },
      "execution_count": null,
      "outputs": []
    },
    {
      "cell_type": "code",
      "source": [
        "data2[\"267_technology_investment_customer_preferences\"]=data2[\"267_technology_investment_customer_preferences\"].fillna(\"267_technology_investment_customer_preferences\")\n",
        "data2"
      ],
      "metadata": {
        "id": "EbUv9B2HQYZT"
      },
      "execution_count": null,
      "outputs": []
    },
    {
      "cell_type": "code",
      "source": [
        "data2[\"234_willingness_participate_workshop\"]=data2[\"234_willingness_participate_workshop\"].fillna(\"234_willingness_participate_workshop\")\n",
        "data2"
      ],
      "metadata": {
        "id": "X-DAfJQzQYh9"
      },
      "execution_count": null,
      "outputs": []
    },
    {
      "cell_type": "code",
      "source": [
        "data2[\"318_shopkeeper_name\"]=data2[\"318_shopkeeper_name\"].fillna(\"318_shopkeeper_name\")\n",
        "data2"
      ],
      "metadata": {
        "id": "5vHWCu7rQYtg"
      },
      "execution_count": null,
      "outputs": []
    },
    {
      "cell_type": "code",
      "source": [
        "data2[\"pictures_of_shelves_if_possible\"]=data2[\"pictures_of_shelves_if_possible\"].fillna(\"pictures_of_shelves_if_possible\")\n",
        "data2"
      ],
      "metadata": {
        "id": "6FBW1aCoRM2-"
      },
      "execution_count": null,
      "outputs": []
    },
    {
      "cell_type": "code",
      "source": [
        "data2[\"268_number_fridges\"]=data2[\"268_number_fridges\"].fillna(\"268_number_fridges\")\n",
        "data2"
      ],
      "metadata": {
        "id": "WbkU31fhSOdI"
      },
      "execution_count": null,
      "outputs": []
    },
    {
      "cell_type": "code",
      "source": [
        "#Corroboramos valores nulos\n",
        "valores_nulos=data2.isnull().sum().sum()\n",
        "valores_nulos #al final se corrobora que ya no haya ningún valor nulo en ninugna de las columnas de los datos"
      ],
      "metadata": {
        "colab": {
          "base_uri": "https://localhost:8080/"
        },
        "id": "EWW7RyAHfTMr",
        "outputId": "202fffca-0f36-4478-ceb8-8a73543bf9f6"
      },
      "execution_count": null,
      "outputs": [
        {
          "output_type": "execute_result",
          "data": {
            "text/plain": [
              "0"
            ]
          },
          "metadata": {},
          "execution_count": 105
        }
      ]
    },
    {
      "cell_type": "markdown",
      "source": [
        "**Procedimiento \"Cuantiles\" para sustituir outliers en dataframe**"
      ],
      "metadata": {
        "id": "SPcyQ_BngDjc"
      }
    },
    {
      "cell_type": "code",
      "source": [
        "#Realizamos diagrama de caja o bigote de cada columna del dataframe\n",
        "fig=plt.figure(figsize=(15,8)) \n",
        "data2.plot(kind=\"box\",vert=False) \n",
        "plt.title(\"Valores atípicos del DataFrame\") \n",
        "plt.show() "
      ],
      "metadata": {
        "id": "r6vsjmUAh2Q0"
      },
      "execution_count": null,
      "outputs": []
    },
    {
      "cell_type": "code",
      "source": [
        "#Método aplicando Cuartiles. Encuentro cuartiles 0.25 y 0.75 \n",
        "y=data2[\"104_how_many_shelves_does_the_micro_retailer_have\"] \n",
        "#se pone el nombre de la columna a la que se le van a quitar los valores atípicos\n",
        "percentile25=y.quantile(0.25)\n",
        "percentile75=y.quantile(0.75) \n",
        "iqr=percentile75 - percentile25 \n",
        "\n",
        "Limite_Superior_iqr=percentile75+1.5*iqr \n",
        "Limite_Inferior_iqr=percentile25-1.5*iqr \n",
        "print(\"Limite superior permitido\", Limite_Superior_iqr)\n",
        "print(\"Limite interior permitido\", Limite_Inferior_iqr) "
      ],
      "metadata": {
        "colab": {
          "base_uri": "https://localhost:8080/"
        },
        "id": "49HH_BAogIMo",
        "outputId": "30d079b7-48cd-40fc-8722-d9bc262823b4"
      },
      "execution_count": null,
      "outputs": [
        {
          "output_type": "stream",
          "name": "stdout",
          "text": [
            "Limite superior permitido 16.0\n",
            "Limite interior permitido -8.0\n"
          ]
        }
      ]
    },
    {
      "cell_type": "code",
      "source": [
        "#Encontramos outliers del dataframe\n",
        "outliers_iqr=data2[(y>Limite_Superior_iqr)|(y<Limite_Inferior_iqr)]\n",
        "outliers_iqr "
      ],
      "metadata": {
        "id": "dZBnl7Zlgo_U"
      },
      "execution_count": null,
      "outputs": []
    },
    {
      "cell_type": "code",
      "source": [
        "#Obtenemos datos limpios del DataFrame\n",
        "data3_iqr=data2[(y<=Limite_Superior_iqr)&(y>=Limite_Inferior_iqr)]\n",
        "data3_iqr "
      ],
      "metadata": {
        "id": "j0ypSKPVgssX"
      },
      "execution_count": null,
      "outputs": []
    },
    {
      "cell_type": "code",
      "source": [
        "#Realizamos diagrama de caja o bigote de cada columna del dataframe\n",
        "fig=plt.figure(figsize=(5,3)) \n",
        "plt.boxplot(data3_iqr[\"104_how_many_shelves_does_the_micro_retailer_have\"]) \n",
        "plt.title(\"Valores atípicos del número de repisas\")  \n",
        "plt.show() "
      ],
      "metadata": {
        "id": "hfUROrCximg6"
      },
      "execution_count": null,
      "outputs": []
    },
    {
      "cell_type": "markdown",
      "source": [
        "Se repite el mismo proceso para la otra columna"
      ],
      "metadata": {
        "id": "yVxbU41r5E1i"
      }
    },
    {
      "cell_type": "code",
      "source": [
        "#Realizamos una copia del dataframe\n",
        "consumer=data3_iqr.copy()"
      ],
      "metadata": {
        "id": "EgbL9NXPktFN"
      },
      "execution_count": null,
      "outputs": []
    },
    {
      "cell_type": "code",
      "source": [
        "#Método aplicando Cuartiles. Encuentro cuartiles 0.25 y 0.75 \n",
        "y=data2[\"97_number_of_customers_in_store\"]\n",
        "percentile25=y.quantile(0.25)\n",
        "percentile75=y.quantile(0.75)\n",
        "iqr=percentile75 - percentile25\n",
        "\n",
        "Limite_Superior_iqr=percentile75+1.5*iqr\n",
        "Limite_Inferior_iqr=percentile25-1.5*iqr\n",
        "print(\"Limite superior permitido\", Limite_Superior_iqr)\n",
        "print(\"Limite interior permitido\", Limite_Inferior_iqr)"
      ],
      "metadata": {
        "colab": {
          "base_uri": "https://localhost:8080/"
        },
        "id": "5W-KmN3Kjjwh",
        "outputId": "ef0f43c0-c6d6-4c09-e9fc-9150aceb4132"
      },
      "execution_count": null,
      "outputs": [
        {
          "output_type": "stream",
          "name": "stdout",
          "text": [
            "Limite superior permitido 5.0\n",
            "Limite interior permitido -3.0\n"
          ]
        }
      ]
    },
    {
      "cell_type": "code",
      "source": [
        "#Encontramos outliers del dataframe\n",
        "outliers_iqr=data2[(y>Limite_Superior_iqr)|(y<Limite_Inferior_iqr)]\n",
        "outliers_iqr"
      ],
      "metadata": {
        "id": "RWlVbY24kFzb"
      },
      "execution_count": null,
      "outputs": []
    },
    {
      "cell_type": "code",
      "source": [
        "#Obtenemos datos limpios del DataFrame\n",
        "data3_iqr=data2[(y<=Limite_Superior_iqr)&(y>=Limite_Inferior_iqr)]\n",
        "data3_iqr"
      ],
      "metadata": {
        "id": "SnjrnwEykJ1d"
      },
      "execution_count": null,
      "outputs": []
    },
    {
      "cell_type": "code",
      "source": [
        "#Realizamos diagrama de caja o bigote de cada columna del dataframe\n",
        "fig=plt.figure(figsize=(5,3))\n",
        "plt.boxplot(data3_iqr[\"97_number_of_customers_in_store\"])\n",
        "plt.title(\"Valores atípicos del numero de clientes en la tienda\")\n",
        "plt.show() "
      ],
      "metadata": {
        "id": "-Hahg2tMkNIx"
      },
      "execution_count": null,
      "outputs": []
    },
    {
      "cell_type": "code",
      "source": [
        "#Realizamos una copia del dataframe\n",
        "consumer=data3_iqr.copy()"
      ],
      "metadata": {
        "id": "ThFil7UnpRFK"
      },
      "execution_count": null,
      "outputs": []
    },
    {
      "cell_type": "markdown",
      "source": [
        "**Generar un documento de excel nuevo con las datos ya limpiados**"
      ],
      "metadata": {
        "id": "k7GTXkTATRpO"
      }
    },
    {
      "cell_type": "code",
      "source": [
        "#Convertir DataFrame a CSV\n",
        "data3_iqr.to_csv(\"microretailer_mit_lift_lab_limpio.csv\")\n"
      ],
      "metadata": {
        "id": "qwADplDN70-k"
      },
      "execution_count": null,
      "outputs": []
    },
    {
      "cell_type": "code",
      "source": [
        "#descargar archivo filtrado en csv\n",
        "from google.colab import files\n",
        "\n",
        "files.download(\"microretailer_mit_lift_lab_limpio.csv\")\n"
      ],
      "metadata": {
        "id": "bENrJYV09kFJ"
      },
      "execution_count": null,
      "outputs": []
    }
  ]
}